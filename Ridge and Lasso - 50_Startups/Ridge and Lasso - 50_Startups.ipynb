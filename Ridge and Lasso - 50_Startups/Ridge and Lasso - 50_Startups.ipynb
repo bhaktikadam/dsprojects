{
 "cells": [
  {
   "cell_type": "code",
   "execution_count": 1,
   "id": "5dac70a5",
   "metadata": {},
   "outputs": [],
   "source": [
    "import pandas as pd\n",
    "import numpy as np\n",
    "import matplotlib as plt\n",
    "import seaborn as sns"
   ]
  },
  {
   "cell_type": "code",
   "execution_count": 2,
   "id": "50f7f1fc",
   "metadata": {},
   "outputs": [],
   "source": [
    "import warnings\n",
    "warnings.filterwarnings(\"ignore\")"
   ]
  },
  {
   "cell_type": "code",
   "execution_count": 3,
   "id": "30e24694",
   "metadata": {},
   "outputs": [],
   "source": [
    "df = pd.read_csv(\"csv files/50_Startups.csv\")"
   ]
  },
  {
   "cell_type": "code",
   "execution_count": 4,
   "id": "fd585423",
   "metadata": {},
   "outputs": [
    {
     "data": {
      "text/html": [
       "<div>\n",
       "<style scoped>\n",
       "    .dataframe tbody tr th:only-of-type {\n",
       "        vertical-align: middle;\n",
       "    }\n",
       "\n",
       "    .dataframe tbody tr th {\n",
       "        vertical-align: top;\n",
       "    }\n",
       "\n",
       "    .dataframe thead th {\n",
       "        text-align: right;\n",
       "    }\n",
       "</style>\n",
       "<table border=\"1\" class=\"dataframe\">\n",
       "  <thead>\n",
       "    <tr style=\"text-align: right;\">\n",
       "      <th></th>\n",
       "      <th>RND</th>\n",
       "      <th>ADMIN</th>\n",
       "      <th>MKT</th>\n",
       "      <th>STATE</th>\n",
       "      <th>PROFIT</th>\n",
       "    </tr>\n",
       "  </thead>\n",
       "  <tbody>\n",
       "    <tr>\n",
       "      <th>0</th>\n",
       "      <td>165349.20</td>\n",
       "      <td>136897.80</td>\n",
       "      <td>471784.10</td>\n",
       "      <td>New York</td>\n",
       "      <td>192261.83</td>\n",
       "    </tr>\n",
       "    <tr>\n",
       "      <th>1</th>\n",
       "      <td>162597.70</td>\n",
       "      <td>151377.59</td>\n",
       "      <td>443898.53</td>\n",
       "      <td>California</td>\n",
       "      <td>191792.06</td>\n",
       "    </tr>\n",
       "    <tr>\n",
       "      <th>2</th>\n",
       "      <td>153441.51</td>\n",
       "      <td>101145.55</td>\n",
       "      <td>407934.54</td>\n",
       "      <td>Florida</td>\n",
       "      <td>191050.39</td>\n",
       "    </tr>\n",
       "    <tr>\n",
       "      <th>3</th>\n",
       "      <td>144372.41</td>\n",
       "      <td>118671.85</td>\n",
       "      <td>383199.62</td>\n",
       "      <td>New York</td>\n",
       "      <td>182901.99</td>\n",
       "    </tr>\n",
       "    <tr>\n",
       "      <th>4</th>\n",
       "      <td>142107.34</td>\n",
       "      <td>91391.77</td>\n",
       "      <td>366168.42</td>\n",
       "      <td>Florida</td>\n",
       "      <td>166187.94</td>\n",
       "    </tr>\n",
       "  </tbody>\n",
       "</table>\n",
       "</div>"
      ],
      "text/plain": [
       "         RND      ADMIN        MKT       STATE     PROFIT\n",
       "0  165349.20  136897.80  471784.10    New York  192261.83\n",
       "1  162597.70  151377.59  443898.53  California  191792.06\n",
       "2  153441.51  101145.55  407934.54     Florida  191050.39\n",
       "3  144372.41  118671.85  383199.62    New York  182901.99\n",
       "4  142107.34   91391.77  366168.42     Florida  166187.94"
      ]
     },
     "execution_count": 4,
     "metadata": {},
     "output_type": "execute_result"
    }
   ],
   "source": [
    "df.head(5)"
   ]
  },
  {
   "cell_type": "code",
   "execution_count": 5,
   "id": "50a8bdcc",
   "metadata": {},
   "outputs": [
    {
     "data": {
      "text/plain": [
       "RND       0\n",
       "ADMIN     0\n",
       "MKT       0\n",
       "STATE     0\n",
       "PROFIT    0\n",
       "dtype: int64"
      ]
     },
     "execution_count": 5,
     "metadata": {},
     "output_type": "execute_result"
    }
   ],
   "source": [
    "df.isna().sum()"
   ]
  },
  {
   "cell_type": "code",
   "execution_count": 6,
   "id": "bb907ace",
   "metadata": {},
   "outputs": [],
   "source": [
    "from methods import replacer\n",
    "replacer(df)"
   ]
  },
  {
   "cell_type": "code",
   "execution_count": 7,
   "id": "9dadf4e1",
   "metadata": {},
   "outputs": [
    {
     "data": {
      "text/plain": [
       "RND       0\n",
       "ADMIN     0\n",
       "MKT       0\n",
       "STATE     0\n",
       "PROFIT    0\n",
       "dtype: int64"
      ]
     },
     "execution_count": 7,
     "metadata": {},
     "output_type": "execute_result"
    }
   ],
   "source": [
    "df.isnull().sum()"
   ]
  },
  {
   "cell_type": "code",
   "execution_count": 8,
   "id": "8d2e9edb",
   "metadata": {},
   "outputs": [
    {
     "data": {
      "text/plain": [
       "ADMIN     0.200717\n",
       "MKT       0.747766\n",
       "RND       0.972900\n",
       "PROFIT    1.000000\n",
       "Name: PROFIT, dtype: float64"
      ]
     },
     "execution_count": 8,
     "metadata": {},
     "output_type": "execute_result"
    }
   ],
   "source": [
    "df.corr()[\"PROFIT\"].sort_values()"
   ]
  },
  {
   "cell_type": "code",
   "execution_count": 9,
   "id": "ecdd2f62",
   "metadata": {},
   "outputs": [],
   "source": [
    "x = df.drop(labels=[\"PROFIT\"], axis=1)\n",
    "y = df[['PROFIT']]"
   ]
  },
  {
   "cell_type": "code",
   "execution_count": 10,
   "id": "7f2ad011",
   "metadata": {
    "scrolled": true
   },
   "outputs": [
    {
     "data": {
      "text/plain": [
       "RND      0\n",
       "ADMIN    0\n",
       "MKT      0\n",
       "STATE    0\n",
       "dtype: int64"
      ]
     },
     "execution_count": 10,
     "metadata": {},
     "output_type": "execute_result"
    }
   ],
   "source": [
    "x.isna().sum()"
   ]
  },
  {
   "cell_type": "code",
   "execution_count": 11,
   "id": "85386804",
   "metadata": {},
   "outputs": [
    {
     "data": {
      "text/plain": [
       "PROFIT    0\n",
       "dtype: int64"
      ]
     },
     "execution_count": 11,
     "metadata": {},
     "output_type": "execute_result"
    }
   ],
   "source": [
    "y.isna().sum()"
   ]
  },
  {
   "cell_type": "code",
   "execution_count": 12,
   "id": "ca882d58",
   "metadata": {},
   "outputs": [
    {
     "data": {
      "text/html": [
       "<div>\n",
       "<style scoped>\n",
       "    .dataframe tbody tr th:only-of-type {\n",
       "        vertical-align: middle;\n",
       "    }\n",
       "\n",
       "    .dataframe tbody tr th {\n",
       "        vertical-align: top;\n",
       "    }\n",
       "\n",
       "    .dataframe thead th {\n",
       "        text-align: right;\n",
       "    }\n",
       "</style>\n",
       "<table border=\"1\" class=\"dataframe\">\n",
       "  <thead>\n",
       "    <tr style=\"text-align: right;\">\n",
       "      <th></th>\n",
       "      <th>RND</th>\n",
       "      <th>ADMIN</th>\n",
       "      <th>MKT</th>\n",
       "      <th>PROFIT</th>\n",
       "    </tr>\n",
       "  </thead>\n",
       "  <tbody>\n",
       "    <tr>\n",
       "      <th>0</th>\n",
       "      <td>2.016411</td>\n",
       "      <td>0.560753</td>\n",
       "      <td>2.153943</td>\n",
       "      <td>2.011203</td>\n",
       "    </tr>\n",
       "    <tr>\n",
       "      <th>1</th>\n",
       "      <td>1.955860</td>\n",
       "      <td>1.082807</td>\n",
       "      <td>1.923600</td>\n",
       "      <td>1.999430</td>\n",
       "    </tr>\n",
       "    <tr>\n",
       "      <th>2</th>\n",
       "      <td>1.754364</td>\n",
       "      <td>-0.728257</td>\n",
       "      <td>1.626528</td>\n",
       "      <td>1.980842</td>\n",
       "    </tr>\n",
       "    <tr>\n",
       "      <th>3</th>\n",
       "      <td>1.554784</td>\n",
       "      <td>-0.096365</td>\n",
       "      <td>1.422210</td>\n",
       "      <td>1.776627</td>\n",
       "    </tr>\n",
       "    <tr>\n",
       "      <th>4</th>\n",
       "      <td>1.504937</td>\n",
       "      <td>-1.079919</td>\n",
       "      <td>1.281528</td>\n",
       "      <td>1.357740</td>\n",
       "    </tr>\n",
       "  </tbody>\n",
       "</table>\n",
       "</div>"
      ],
      "text/plain": [
       "        RND     ADMIN       MKT    PROFIT\n",
       "0  2.016411  0.560753  2.153943  2.011203\n",
       "1  1.955860  1.082807  1.923600  1.999430\n",
       "2  1.754364 -0.728257  1.626528  1.980842\n",
       "3  1.554784 -0.096365  1.422210  1.776627\n",
       "4  1.504937 -1.079919  1.281528  1.357740"
      ]
     },
     "execution_count": 12,
     "metadata": {},
     "output_type": "execute_result"
    }
   ],
   "source": [
    "from methods import standardize\n",
    "x1 = standardize(df)\n",
    "x1.head(5)"
   ]
  },
  {
   "cell_type": "code",
   "execution_count": 13,
   "id": "b78bea43",
   "metadata": {},
   "outputs": [],
   "source": [
    "from methods import preprocessing\n",
    "Xnew = preprocessing(df)"
   ]
  },
  {
   "cell_type": "code",
   "execution_count": 14,
   "id": "8870138a",
   "metadata": {
    "scrolled": true
   },
   "outputs": [
    {
     "data": {
      "text/html": [
       "<div>\n",
       "<style scoped>\n",
       "    .dataframe tbody tr th:only-of-type {\n",
       "        vertical-align: middle;\n",
       "    }\n",
       "\n",
       "    .dataframe tbody tr th {\n",
       "        vertical-align: top;\n",
       "    }\n",
       "\n",
       "    .dataframe thead th {\n",
       "        text-align: right;\n",
       "    }\n",
       "</style>\n",
       "<table border=\"1\" class=\"dataframe\">\n",
       "  <thead>\n",
       "    <tr style=\"text-align: right;\">\n",
       "      <th></th>\n",
       "      <th>RND</th>\n",
       "      <th>ADMIN</th>\n",
       "      <th>MKT</th>\n",
       "      <th>PROFIT</th>\n",
       "      <th>STATE_California</th>\n",
       "      <th>STATE_Florida</th>\n",
       "      <th>STATE_New York</th>\n",
       "    </tr>\n",
       "  </thead>\n",
       "  <tbody>\n",
       "    <tr>\n",
       "      <th>0</th>\n",
       "      <td>2.016411</td>\n",
       "      <td>0.560753</td>\n",
       "      <td>2.153943</td>\n",
       "      <td>2.011203</td>\n",
       "      <td>0</td>\n",
       "      <td>0</td>\n",
       "      <td>1</td>\n",
       "    </tr>\n",
       "    <tr>\n",
       "      <th>1</th>\n",
       "      <td>1.955860</td>\n",
       "      <td>1.082807</td>\n",
       "      <td>1.923600</td>\n",
       "      <td>1.999430</td>\n",
       "      <td>1</td>\n",
       "      <td>0</td>\n",
       "      <td>0</td>\n",
       "    </tr>\n",
       "    <tr>\n",
       "      <th>2</th>\n",
       "      <td>1.754364</td>\n",
       "      <td>-0.728257</td>\n",
       "      <td>1.626528</td>\n",
       "      <td>1.980842</td>\n",
       "      <td>0</td>\n",
       "      <td>1</td>\n",
       "      <td>0</td>\n",
       "    </tr>\n",
       "    <tr>\n",
       "      <th>3</th>\n",
       "      <td>1.554784</td>\n",
       "      <td>-0.096365</td>\n",
       "      <td>1.422210</td>\n",
       "      <td>1.776627</td>\n",
       "      <td>0</td>\n",
       "      <td>0</td>\n",
       "      <td>1</td>\n",
       "    </tr>\n",
       "    <tr>\n",
       "      <th>4</th>\n",
       "      <td>1.504937</td>\n",
       "      <td>-1.079919</td>\n",
       "      <td>1.281528</td>\n",
       "      <td>1.357740</td>\n",
       "      <td>0</td>\n",
       "      <td>1</td>\n",
       "      <td>0</td>\n",
       "    </tr>\n",
       "    <tr>\n",
       "      <th>5</th>\n",
       "      <td>1.279800</td>\n",
       "      <td>-0.776239</td>\n",
       "      <td>1.254210</td>\n",
       "      <td>1.127250</td>\n",
       "      <td>0</td>\n",
       "      <td>0</td>\n",
       "      <td>1</td>\n",
       "    </tr>\n",
       "    <tr>\n",
       "      <th>6</th>\n",
       "      <td>1.340066</td>\n",
       "      <td>0.932147</td>\n",
       "      <td>-0.688150</td>\n",
       "      <td>1.105481</td>\n",
       "      <td>1</td>\n",
       "      <td>0</td>\n",
       "      <td>0</td>\n",
       "    </tr>\n",
       "    <tr>\n",
       "      <th>7</th>\n",
       "      <td>1.245057</td>\n",
       "      <td>0.871980</td>\n",
       "      <td>0.932186</td>\n",
       "      <td>1.096210</td>\n",
       "      <td>0</td>\n",
       "      <td>1</td>\n",
       "      <td>0</td>\n",
       "    </tr>\n",
       "    <tr>\n",
       "      <th>8</th>\n",
       "      <td>1.030369</td>\n",
       "      <td>0.986952</td>\n",
       "      <td>0.830887</td>\n",
       "      <td>1.007470</td>\n",
       "      <td>0</td>\n",
       "      <td>0</td>\n",
       "      <td>1</td>\n",
       "    </tr>\n",
       "    <tr>\n",
       "      <th>9</th>\n",
       "      <td>1.091819</td>\n",
       "      <td>-0.456640</td>\n",
       "      <td>0.776107</td>\n",
       "      <td>0.946022</td>\n",
       "      <td>1</td>\n",
       "      <td>0</td>\n",
       "      <td>0</td>\n",
       "    </tr>\n",
       "    <tr>\n",
       "      <th>10</th>\n",
       "      <td>0.620398</td>\n",
       "      <td>-0.387599</td>\n",
       "      <td>0.149807</td>\n",
       "      <td>0.854847</td>\n",
       "      <td>0</td>\n",
       "      <td>1</td>\n",
       "      <td>0</td>\n",
       "    </tr>\n",
       "    <tr>\n",
       "      <th>11</th>\n",
       "      <td>0.593085</td>\n",
       "      <td>-1.065540</td>\n",
       "      <td>0.319834</td>\n",
       "      <td>0.808168</td>\n",
       "      <td>1</td>\n",
       "      <td>0</td>\n",
       "      <td>0</td>\n",
       "    </tr>\n",
       "    <tr>\n",
       "      <th>12</th>\n",
       "      <td>0.443260</td>\n",
       "      <td>0.215449</td>\n",
       "      <td>0.320617</td>\n",
       "      <td>0.741155</td>\n",
       "      <td>0</td>\n",
       "      <td>1</td>\n",
       "      <td>0</td>\n",
       "    </tr>\n",
       "    <tr>\n",
       "      <th>13</th>\n",
       "      <td>0.402078</td>\n",
       "      <td>0.510179</td>\n",
       "      <td>0.343957</td>\n",
       "      <td>0.558750</td>\n",
       "      <td>1</td>\n",
       "      <td>0</td>\n",
       "      <td>0</td>\n",
       "    </tr>\n",
       "    <tr>\n",
       "      <th>14</th>\n",
       "      <td>1.017181</td>\n",
       "      <td>1.269199</td>\n",
       "      <td>0.375742</td>\n",
       "      <td>0.516026</td>\n",
       "      <td>0</td>\n",
       "      <td>1</td>\n",
       "      <td>0</td>\n",
       "    </tr>\n",
       "    <tr>\n",
       "      <th>15</th>\n",
       "      <td>0.897913</td>\n",
       "      <td>0.045868</td>\n",
       "      <td>0.419219</td>\n",
       "      <td>0.448720</td>\n",
       "      <td>0</td>\n",
       "      <td>0</td>\n",
       "      <td>1</td>\n",
       "    </tr>\n",
       "    <tr>\n",
       "      <th>16</th>\n",
       "      <td>0.094441</td>\n",
       "      <td>0.009118</td>\n",
       "      <td>0.440446</td>\n",
       "      <td>0.375436</td>\n",
       "      <td>1</td>\n",
       "      <td>0</td>\n",
       "      <td>0</td>\n",
       "    </tr>\n",
       "    <tr>\n",
       "      <th>17</th>\n",
       "      <td>0.460720</td>\n",
       "      <td>0.855666</td>\n",
       "      <td>0.591017</td>\n",
       "      <td>0.334771</td>\n",
       "      <td>0</td>\n",
       "      <td>0</td>\n",
       "      <td>1</td>\n",
       "    </tr>\n",
       "    <tr>\n",
       "      <th>18</th>\n",
       "      <td>0.396725</td>\n",
       "      <td>-0.258465</td>\n",
       "      <td>0.692992</td>\n",
       "      <td>0.307116</td>\n",
       "      <td>0</td>\n",
       "      <td>1</td>\n",
       "      <td>0</td>\n",
       "    </tr>\n",
       "    <tr>\n",
       "      <th>19</th>\n",
       "      <td>0.279442</td>\n",
       "      <td>1.159837</td>\n",
       "      <td>-1.743127</td>\n",
       "      <td>0.269773</td>\n",
       "      <td>0</td>\n",
       "      <td>0</td>\n",
       "      <td>1</td>\n",
       "    </tr>\n",
       "    <tr>\n",
       "      <th>20</th>\n",
       "      <td>0.055726</td>\n",
       "      <td>-0.269588</td>\n",
       "      <td>0.723926</td>\n",
       "      <td>0.161935</td>\n",
       "      <td>1</td>\n",
       "      <td>0</td>\n",
       "      <td>0</td>\n",
       "    </tr>\n",
       "    <tr>\n",
       "      <th>21</th>\n",
       "      <td>0.102724</td>\n",
       "      <td>1.169186</td>\n",
       "      <td>0.732788</td>\n",
       "      <td>-0.017534</td>\n",
       "      <td>0</td>\n",
       "      <td>0</td>\n",
       "      <td>1</td>\n",
       "    </tr>\n",
       "    <tr>\n",
       "      <th>22</th>\n",
       "      <td>0.006007</td>\n",
       "      <td>0.051850</td>\n",
       "      <td>0.762376</td>\n",
       "      <td>-0.041613</td>\n",
       "      <td>0</td>\n",
       "      <td>1</td>\n",
       "      <td>0</td>\n",
       "    </tr>\n",
       "    <tr>\n",
       "      <th>23</th>\n",
       "      <td>-0.136201</td>\n",
       "      <td>-0.562211</td>\n",
       "      <td>0.774349</td>\n",
       "      <td>-0.082169</td>\n",
       "      <td>0</td>\n",
       "      <td>1</td>\n",
       "      <td>0</td>\n",
       "    </tr>\n",
       "    <tr>\n",
       "      <th>24</th>\n",
       "      <td>0.073115</td>\n",
       "      <td>-0.795469</td>\n",
       "      <td>-0.581939</td>\n",
       "      <td>-0.086729</td>\n",
       "      <td>0</td>\n",
       "      <td>0</td>\n",
       "      <td>1</td>\n",
       "    </tr>\n",
       "    <tr>\n",
       "      <th>25</th>\n",
       "      <td>-0.199312</td>\n",
       "      <td>0.656489</td>\n",
       "      <td>-0.603517</td>\n",
       "      <td>-0.115493</td>\n",
       "      <td>1</td>\n",
       "      <td>0</td>\n",
       "      <td>0</td>\n",
       "    </tr>\n",
       "    <tr>\n",
       "      <th>26</th>\n",
       "      <td>0.035370</td>\n",
       "      <td>0.821718</td>\n",
       "      <td>-0.635835</td>\n",
       "      <td>-0.157367</td>\n",
       "      <td>0</td>\n",
       "      <td>1</td>\n",
       "      <td>0</td>\n",
       "    </tr>\n",
       "    <tr>\n",
       "      <th>27</th>\n",
       "      <td>-0.035519</td>\n",
       "      <td>0.235069</td>\n",
       "      <td>1.174271</td>\n",
       "      <td>-0.175542</td>\n",
       "      <td>0</td>\n",
       "      <td>0</td>\n",
       "      <td>1</td>\n",
       "    </tr>\n",
       "    <tr>\n",
       "      <th>28</th>\n",
       "      <td>-0.168793</td>\n",
       "      <td>2.210141</td>\n",
       "      <td>-0.767189</td>\n",
       "      <td>-0.218798</td>\n",
       "      <td>0</td>\n",
       "      <td>1</td>\n",
       "      <td>0</td>\n",
       "    </tr>\n",
       "    <tr>\n",
       "      <th>29</th>\n",
       "      <td>-0.178609</td>\n",
       "      <td>1.142457</td>\n",
       "      <td>-0.858134</td>\n",
       "      <td>-0.275882</td>\n",
       "      <td>0</td>\n",
       "      <td>0</td>\n",
       "      <td>1</td>\n",
       "    </tr>\n",
       "    <tr>\n",
       "      <th>30</th>\n",
       "      <td>-0.258074</td>\n",
       "      <td>-0.205629</td>\n",
       "      <td>-0.990357</td>\n",
       "      <td>-0.302625</td>\n",
       "      <td>0</td>\n",
       "      <td>1</td>\n",
       "      <td>0</td>\n",
       "    </tr>\n",
       "    <tr>\n",
       "      <th>31</th>\n",
       "      <td>-0.276958</td>\n",
       "      <td>1.130554</td>\n",
       "      <td>-1.014419</td>\n",
       "      <td>-0.364127</td>\n",
       "      <td>0</td>\n",
       "      <td>0</td>\n",
       "      <td>1</td>\n",
       "    </tr>\n",
       "    <tr>\n",
       "      <th>32</th>\n",
       "      <td>-0.226949</td>\n",
       "      <td>0.283924</td>\n",
       "      <td>-1.362450</td>\n",
       "      <td>-0.365524</td>\n",
       "      <td>1</td>\n",
       "      <td>0</td>\n",
       "      <td>0</td>\n",
       "    </tr>\n",
       "    <tr>\n",
       "      <th>33</th>\n",
       "      <td>-0.401129</td>\n",
       "      <td>-0.659324</td>\n",
       "      <td>0.029817</td>\n",
       "      <td>-0.381787</td>\n",
       "      <td>0</td>\n",
       "      <td>1</td>\n",
       "      <td>0</td>\n",
       "    </tr>\n",
       "    <tr>\n",
       "      <th>34</th>\n",
       "      <td>-0.600682</td>\n",
       "      <td>1.310535</td>\n",
       "      <td>-0.001879</td>\n",
       "      <td>-0.383444</td>\n",
       "      <td>1</td>\n",
       "      <td>0</td>\n",
       "      <td>0</td>\n",
       "    </tr>\n",
       "    <tr>\n",
       "      <th>35</th>\n",
       "      <td>-0.609750</td>\n",
       "      <td>-1.308658</td>\n",
       "      <td>-0.045493</td>\n",
       "      <td>-0.389291</td>\n",
       "      <td>0</td>\n",
       "      <td>0</td>\n",
       "      <td>1</td>\n",
       "    </tr>\n",
       "    <tr>\n",
       "      <th>36</th>\n",
       "      <td>-0.991570</td>\n",
       "      <td>0.205925</td>\n",
       "      <td>-0.081763</td>\n",
       "      <td>-0.533932</td>\n",
       "      <td>0</td>\n",
       "      <td>1</td>\n",
       "      <td>0</td>\n",
       "    </tr>\n",
       "    <tr>\n",
       "      <th>37</th>\n",
       "      <td>-0.652532</td>\n",
       "      <td>-2.525994</td>\n",
       "      <td>-0.115608</td>\n",
       "      <td>-0.552955</td>\n",
       "      <td>1</td>\n",
       "      <td>0</td>\n",
       "      <td>0</td>\n",
       "    </tr>\n",
       "    <tr>\n",
       "      <th>38</th>\n",
       "      <td>-1.177178</td>\n",
       "      <td>-1.997270</td>\n",
       "      <td>-0.212785</td>\n",
       "      <td>-0.771497</td>\n",
       "      <td>0</td>\n",
       "      <td>0</td>\n",
       "      <td>1</td>\n",
       "    </tr>\n",
       "    <tr>\n",
       "      <th>39</th>\n",
       "      <td>-0.773820</td>\n",
       "      <td>-1.383122</td>\n",
       "      <td>-0.297583</td>\n",
       "      <td>-0.777094</td>\n",
       "      <td>1</td>\n",
       "      <td>0</td>\n",
       "      <td>0</td>\n",
       "    </tr>\n",
       "    <tr>\n",
       "      <th>40</th>\n",
       "      <td>-0.989577</td>\n",
       "      <td>-0.100900</td>\n",
       "      <td>-0.315786</td>\n",
       "      <td>-0.846411</td>\n",
       "      <td>1</td>\n",
       "      <td>0</td>\n",
       "      <td>0</td>\n",
       "    </tr>\n",
       "    <tr>\n",
       "      <th>41</th>\n",
       "      <td>-1.008534</td>\n",
       "      <td>-1.320796</td>\n",
       "      <td>-0.384552</td>\n",
       "      <td>-0.857466</td>\n",
       "      <td>0</td>\n",
       "      <td>1</td>\n",
       "      <td>0</td>\n",
       "    </tr>\n",
       "    <tr>\n",
       "      <th>42</th>\n",
       "      <td>-1.102106</td>\n",
       "      <td>-0.906938</td>\n",
       "      <td>-0.520596</td>\n",
       "      <td>-1.015365</td>\n",
       "      <td>1</td>\n",
       "      <td>0</td>\n",
       "      <td>0</td>\n",
       "    </tr>\n",
       "    <tr>\n",
       "      <th>43</th>\n",
       "      <td>-1.281134</td>\n",
       "      <td>0.217682</td>\n",
       "      <td>-1.449605</td>\n",
       "      <td>-1.058960</td>\n",
       "      <td>0</td>\n",
       "      <td>0</td>\n",
       "      <td>1</td>\n",
       "    </tr>\n",
       "    <tr>\n",
       "      <th>44</th>\n",
       "      <td>-1.134305</td>\n",
       "      <td>1.206419</td>\n",
       "      <td>-1.509074</td>\n",
       "      <td>-1.173209</td>\n",
       "      <td>1</td>\n",
       "      <td>0</td>\n",
       "      <td>0</td>\n",
       "    </tr>\n",
       "    <tr>\n",
       "      <th>45</th>\n",
       "      <td>-1.600350</td>\n",
       "      <td>0.101254</td>\n",
       "      <td>-1.727400</td>\n",
       "      <td>-1.180082</td>\n",
       "      <td>0</td>\n",
       "      <td>0</td>\n",
       "      <td>1</td>\n",
       "    </tr>\n",
       "    <tr>\n",
       "      <th>46</th>\n",
       "      <td>-1.593413</td>\n",
       "      <td>-0.199322</td>\n",
       "      <td>0.711122</td>\n",
       "      <td>-1.566922</td>\n",
       "      <td>0</td>\n",
       "      <td>1</td>\n",
       "      <td>0</td>\n",
       "    </tr>\n",
       "    <tr>\n",
       "      <th>47</th>\n",
       "      <td>-1.622362</td>\n",
       "      <td>0.507722</td>\n",
       "      <td>-1.743127</td>\n",
       "      <td>-1.740627</td>\n",
       "      <td>1</td>\n",
       "      <td>0</td>\n",
       "      <td>0</td>\n",
       "    </tr>\n",
       "    <tr>\n",
       "      <th>48</th>\n",
       "      <td>-1.610433</td>\n",
       "      <td>-2.509409</td>\n",
       "      <td>-1.743127</td>\n",
       "      <td>-1.913212</td>\n",
       "      <td>0</td>\n",
       "      <td>0</td>\n",
       "      <td>1</td>\n",
       "    </tr>\n",
       "    <tr>\n",
       "      <th>49</th>\n",
       "      <td>-1.622362</td>\n",
       "      <td>-0.157226</td>\n",
       "      <td>-1.369985</td>\n",
       "      <td>-2.439313</td>\n",
       "      <td>1</td>\n",
       "      <td>0</td>\n",
       "      <td>0</td>\n",
       "    </tr>\n",
       "  </tbody>\n",
       "</table>\n",
       "</div>"
      ],
      "text/plain": [
       "         RND     ADMIN       MKT    PROFIT  STATE_California  STATE_Florida  \\\n",
       "0   2.016411  0.560753  2.153943  2.011203                 0              0   \n",
       "1   1.955860  1.082807  1.923600  1.999430                 1              0   \n",
       "2   1.754364 -0.728257  1.626528  1.980842                 0              1   \n",
       "3   1.554784 -0.096365  1.422210  1.776627                 0              0   \n",
       "4   1.504937 -1.079919  1.281528  1.357740                 0              1   \n",
       "5   1.279800 -0.776239  1.254210  1.127250                 0              0   \n",
       "6   1.340066  0.932147 -0.688150  1.105481                 1              0   \n",
       "7   1.245057  0.871980  0.932186  1.096210                 0              1   \n",
       "8   1.030369  0.986952  0.830887  1.007470                 0              0   \n",
       "9   1.091819 -0.456640  0.776107  0.946022                 1              0   \n",
       "10  0.620398 -0.387599  0.149807  0.854847                 0              1   \n",
       "11  0.593085 -1.065540  0.319834  0.808168                 1              0   \n",
       "12  0.443260  0.215449  0.320617  0.741155                 0              1   \n",
       "13  0.402078  0.510179  0.343957  0.558750                 1              0   \n",
       "14  1.017181  1.269199  0.375742  0.516026                 0              1   \n",
       "15  0.897913  0.045868  0.419219  0.448720                 0              0   \n",
       "16  0.094441  0.009118  0.440446  0.375436                 1              0   \n",
       "17  0.460720  0.855666  0.591017  0.334771                 0              0   \n",
       "18  0.396725 -0.258465  0.692992  0.307116                 0              1   \n",
       "19  0.279442  1.159837 -1.743127  0.269773                 0              0   \n",
       "20  0.055726 -0.269588  0.723926  0.161935                 1              0   \n",
       "21  0.102724  1.169186  0.732788 -0.017534                 0              0   \n",
       "22  0.006007  0.051850  0.762376 -0.041613                 0              1   \n",
       "23 -0.136201 -0.562211  0.774349 -0.082169                 0              1   \n",
       "24  0.073115 -0.795469 -0.581939 -0.086729                 0              0   \n",
       "25 -0.199312  0.656489 -0.603517 -0.115493                 1              0   \n",
       "26  0.035370  0.821718 -0.635835 -0.157367                 0              1   \n",
       "27 -0.035519  0.235069  1.174271 -0.175542                 0              0   \n",
       "28 -0.168793  2.210141 -0.767189 -0.218798                 0              1   \n",
       "29 -0.178609  1.142457 -0.858134 -0.275882                 0              0   \n",
       "30 -0.258074 -0.205629 -0.990357 -0.302625                 0              1   \n",
       "31 -0.276958  1.130554 -1.014419 -0.364127                 0              0   \n",
       "32 -0.226949  0.283924 -1.362450 -0.365524                 1              0   \n",
       "33 -0.401129 -0.659324  0.029817 -0.381787                 0              1   \n",
       "34 -0.600682  1.310535 -0.001879 -0.383444                 1              0   \n",
       "35 -0.609750 -1.308658 -0.045493 -0.389291                 0              0   \n",
       "36 -0.991570  0.205925 -0.081763 -0.533932                 0              1   \n",
       "37 -0.652532 -2.525994 -0.115608 -0.552955                 1              0   \n",
       "38 -1.177178 -1.997270 -0.212785 -0.771497                 0              0   \n",
       "39 -0.773820 -1.383122 -0.297583 -0.777094                 1              0   \n",
       "40 -0.989577 -0.100900 -0.315786 -0.846411                 1              0   \n",
       "41 -1.008534 -1.320796 -0.384552 -0.857466                 0              1   \n",
       "42 -1.102106 -0.906938 -0.520596 -1.015365                 1              0   \n",
       "43 -1.281134  0.217682 -1.449605 -1.058960                 0              0   \n",
       "44 -1.134305  1.206419 -1.509074 -1.173209                 1              0   \n",
       "45 -1.600350  0.101254 -1.727400 -1.180082                 0              0   \n",
       "46 -1.593413 -0.199322  0.711122 -1.566922                 0              1   \n",
       "47 -1.622362  0.507722 -1.743127 -1.740627                 1              0   \n",
       "48 -1.610433 -2.509409 -1.743127 -1.913212                 0              0   \n",
       "49 -1.622362 -0.157226 -1.369985 -2.439313                 1              0   \n",
       "\n",
       "    STATE_New York  \n",
       "0                1  \n",
       "1                0  \n",
       "2                0  \n",
       "3                1  \n",
       "4                0  \n",
       "5                1  \n",
       "6                0  \n",
       "7                0  \n",
       "8                1  \n",
       "9                0  \n",
       "10               0  \n",
       "11               0  \n",
       "12               0  \n",
       "13               0  \n",
       "14               0  \n",
       "15               1  \n",
       "16               0  \n",
       "17               1  \n",
       "18               0  \n",
       "19               1  \n",
       "20               0  \n",
       "21               1  \n",
       "22               0  \n",
       "23               0  \n",
       "24               1  \n",
       "25               0  \n",
       "26               0  \n",
       "27               1  \n",
       "28               0  \n",
       "29               1  \n",
       "30               0  \n",
       "31               1  \n",
       "32               0  \n",
       "33               0  \n",
       "34               0  \n",
       "35               1  \n",
       "36               0  \n",
       "37               0  \n",
       "38               1  \n",
       "39               0  \n",
       "40               0  \n",
       "41               0  \n",
       "42               0  \n",
       "43               1  \n",
       "44               0  \n",
       "45               1  \n",
       "46               0  \n",
       "47               0  \n",
       "48               1  \n",
       "49               0  "
      ]
     },
     "execution_count": 14,
     "metadata": {},
     "output_type": "execute_result"
    }
   ],
   "source": [
    "Xnew"
   ]
  },
  {
   "cell_type": "code",
   "execution_count": 37,
   "id": "3d59bd3a",
   "metadata": {},
   "outputs": [],
   "source": [
    "from sklearn.model_selection import train_test_split\n",
    "xtrain, xtest, ytrain, ytest = train_test_split(Xnew, y, test_size=0.2, random_state=31)"
   ]
  },
  {
   "cell_type": "code",
   "execution_count": 38,
   "id": "8528fd50",
   "metadata": {},
   "outputs": [
    {
     "data": {
      "text/plain": [
       "LinearRegression()"
      ]
     },
     "execution_count": 38,
     "metadata": {},
     "output_type": "execute_result"
    }
   ],
   "source": [
    "from sklearn.linear_model import LinearRegression\n",
    "reg = LinearRegression()\n",
    "reg.fit(xtrain, ytrain)"
   ]
  },
  {
   "cell_type": "code",
   "execution_count": 39,
   "id": "de47e295",
   "metadata": {},
   "outputs": [],
   "source": [
    "ts_pred = reg.predict(xtest)\n",
    "tr_pred = reg.predict(xtrain)"
   ]
  },
  {
   "cell_type": "code",
   "execution_count": 40,
   "id": "ea70307b",
   "metadata": {},
   "outputs": [
    {
     "data": {
      "text/plain": [
       "array([[ 97427.84],\n",
       "       [166187.94],\n",
       "       [156991.12],\n",
       "       [ 97483.56],\n",
       "       [191050.39],\n",
       "       [ 99937.59],\n",
       "       [192261.83],\n",
       "       [132602.65],\n",
       "       [122776.86],\n",
       "       [ 96479.51],\n",
       "       [152211.77],\n",
       "       [ 78239.91],\n",
       "       [134307.35],\n",
       "       [149759.96],\n",
       "       [ 89949.14]])"
      ]
     },
     "execution_count": 40,
     "metadata": {},
     "output_type": "execute_result"
    }
   ],
   "source": [
    "ts_pred"
   ]
  },
  {
   "cell_type": "code",
   "execution_count": 41,
   "id": "24d54e85",
   "metadata": {},
   "outputs": [
    {
     "data": {
      "text/plain": [
       "array([[ 42559.73],\n",
       "       [111313.02],\n",
       "       [ 90708.19],\n",
       "       [ 49490.75],\n",
       "       [ 69758.98],\n",
       "       [ 96778.92],\n",
       "       [191792.06],\n",
       "       [129917.04],\n",
       "       [155752.6 ],\n",
       "       [108552.04],\n",
       "       [ 71498.49],\n",
       "       [105008.31],\n",
       "       [182901.99],\n",
       "       [110352.25],\n",
       "       [144259.4 ],\n",
       "       [141585.52],\n",
       "       [105733.54],\n",
       "       [118474.03],\n",
       "       [146121.95],\n",
       "       [ 77798.83],\n",
       "       [ 64926.08],\n",
       "       [125370.37],\n",
       "       [107404.34],\n",
       "       [ 81005.76],\n",
       "       [ 14681.4 ],\n",
       "       [156122.51],\n",
       "       [ 65200.33],\n",
       "       [ 81229.06],\n",
       "       [101004.64],\n",
       "       [103282.38],\n",
       "       [ 35673.41],\n",
       "       [ 96712.8 ],\n",
       "       [126992.93],\n",
       "       [108733.99],\n",
       "       [124266.9 ]])"
      ]
     },
     "execution_count": 41,
     "metadata": {},
     "output_type": "execute_result"
    }
   ],
   "source": [
    "tr_pred"
   ]
  },
  {
   "cell_type": "code",
   "execution_count": 42,
   "id": "12e0ca6b",
   "metadata": {},
   "outputs": [
    {
     "name": "stdout",
     "output_type": "stream",
     "text": [
      "Training error is :  1.4292059599288872e-11\n"
     ]
    }
   ],
   "source": [
    "from sklearn.metrics import mean_absolute_error\n",
    "tr_err = mean_absolute_error(ytrain, tr_pred)\n",
    "print(\"Training error is : \", tr_err)"
   ]
  },
  {
   "cell_type": "code",
   "execution_count": 43,
   "id": "2827b380",
   "metadata": {},
   "outputs": [
    {
     "name": "stdout",
     "output_type": "stream",
     "text": [
      "Testing error is :  2.037268131971359e-11\n"
     ]
    }
   ],
   "source": [
    "ts_err = mean_absolute_error(ytest, ts_pred)\n",
    "print(\"Testing error is : \", ts_err)"
   ]
  },
  {
   "cell_type": "code",
   "execution_count": 44,
   "id": "a441404f",
   "metadata": {},
   "outputs": [
    {
     "data": {
      "text/plain": [
       "1.0"
      ]
     },
     "execution_count": 44,
     "metadata": {},
     "output_type": "execute_result"
    }
   ],
   "source": [
    "reg.score(xtrain,ytrain)"
   ]
  },
  {
   "cell_type": "code",
   "execution_count": 45,
   "id": "9c7a3fc0",
   "metadata": {},
   "outputs": [
    {
     "data": {
      "text/plain": [
       "1.0"
      ]
     },
     "execution_count": 45,
     "metadata": {},
     "output_type": "execute_result"
    }
   ],
   "source": [
    "from sklearn.metrics import r2_score\n",
    "r2_score(ytest,ts_pred)"
   ]
  },
  {
   "cell_type": "code",
   "execution_count": null,
   "id": "f953eb57",
   "metadata": {},
   "outputs": [],
   "source": []
  },
  {
   "cell_type": "code",
   "execution_count": null,
   "id": "6bcdee85",
   "metadata": {},
   "outputs": [],
   "source": []
  },
  {
   "cell_type": "code",
   "execution_count": null,
   "id": "5accec59",
   "metadata": {},
   "outputs": [],
   "source": []
  },
  {
   "cell_type": "code",
   "execution_count": 24,
   "id": "a8e66796",
   "metadata": {},
   "outputs": [
    {
     "data": {
      "text/plain": [
       "0.9971752908804733"
      ]
     },
     "execution_count": 24,
     "metadata": {},
     "output_type": "execute_result"
    }
   ],
   "source": [
    "from sklearn.linear_model import Ridge\n",
    "rd =Ridge()\n",
    "rd.fit(xtrain,ytrain)\n",
    "rd.score(xtest,ytest)"
   ]
  },
  {
   "cell_type": "code",
   "execution_count": 31,
   "id": "9a137817",
   "metadata": {},
   "outputs": [
    {
     "data": {
      "text/plain": [
       "0.9994295627347223"
      ]
     },
     "execution_count": 31,
     "metadata": {},
     "output_type": "execute_result"
    }
   ],
   "source": [
    "rd =Ridge(alpha=0.3)\n",
    "rd.fit(xtrain,ytrain)\n",
    "rd.score(xtest,ytest)"
   ]
  },
  {
   "cell_type": "code",
   "execution_count": 32,
   "id": "c7f65cb2",
   "metadata": {},
   "outputs": [
    {
     "data": {
      "text/plain": [
       "0.9991189603576442"
      ]
     },
     "execution_count": 32,
     "metadata": {},
     "output_type": "execute_result"
    }
   ],
   "source": [
    "rd =Ridge(alpha=0.4)\n",
    "rd.fit(xtrain,ytrain)\n",
    "rd.score(xtest,ytest)"
   ]
  },
  {
   "cell_type": "code",
   "execution_count": 33,
   "id": "b3e528eb",
   "metadata": {},
   "outputs": [
    {
     "data": {
      "text/plain": [
       "0.9997048184856852"
      ]
     },
     "execution_count": 33,
     "metadata": {},
     "output_type": "execute_result"
    }
   ],
   "source": [
    "rd =Ridge(alpha=0.2)\n",
    "rd.fit(xtrain,ytrain)\n",
    "rd.score(xtest,ytest)"
   ]
  },
  {
   "cell_type": "code",
   "execution_count": 34,
   "id": "7863b4d5",
   "metadata": {},
   "outputs": [
    {
     "data": {
      "text/plain": [
       "0.9999129394475503"
      ]
     },
     "execution_count": 34,
     "metadata": {},
     "output_type": "execute_result"
    }
   ],
   "source": [
    "rd =Ridge(alpha=0.1)\n",
    "rd.fit(xtrain,ytrain)\n",
    "rd.score(xtest,ytest)"
   ]
  },
  {
   "cell_type": "code",
   "execution_count": 35,
   "id": "08af6584",
   "metadata": {},
   "outputs": [
    {
     "data": {
      "text/plain": [
       "1.0"
      ]
     },
     "execution_count": 35,
     "metadata": {},
     "output_type": "execute_result"
    }
   ],
   "source": [
    "rd =Ridge(alpha=0)\n",
    "rd.fit(xtrain,ytrain)\n",
    "rd.score(xtest,ytest)"
   ]
  },
  {
   "cell_type": "code",
   "execution_count": 36,
   "id": "3ea87ddf",
   "metadata": {},
   "outputs": [
    {
     "data": {
      "text/plain": [
       "0.9998727497514183"
      ]
     },
     "execution_count": 36,
     "metadata": {},
     "output_type": "execute_result"
    }
   ],
   "source": [
    "rd =Ridge(alpha=-0.1)\n",
    "rd.fit(xtrain,ytrain)\n",
    "rd.score(xtest,ytest)"
   ]
  },
  {
   "cell_type": "code",
   "execution_count": null,
   "id": "e3b4b73a",
   "metadata": {},
   "outputs": [],
   "source": []
  },
  {
   "cell_type": "code",
   "execution_count": null,
   "id": "faee8b75",
   "metadata": {},
   "outputs": [],
   "source": []
  },
  {
   "cell_type": "code",
   "execution_count": null,
   "id": "342ca70a",
   "metadata": {},
   "outputs": [],
   "source": []
  },
  {
   "cell_type": "code",
   "execution_count": null,
   "id": "5158c88c",
   "metadata": {},
   "outputs": [],
   "source": []
  },
  {
   "cell_type": "code",
   "execution_count": 30,
   "id": "3a639dde",
   "metadata": {},
   "outputs": [
    {
     "data": {
      "text/plain": [
       "0.9999998796994667"
      ]
     },
     "execution_count": 30,
     "metadata": {},
     "output_type": "execute_result"
    }
   ],
   "source": [
    "from sklearn.linear_model import Lasso\n",
    "ls = Lasso(alpha=1.0)\n",
    "ls.fit(xtrain,ytrain)\n",
    "ls.score(xtest,ytest)"
   ]
  },
  {
   "cell_type": "code",
   "execution_count": null,
   "id": "0729cb6b",
   "metadata": {},
   "outputs": [],
   "source": []
  }
 ],
 "metadata": {
  "kernelspec": {
   "display_name": "Python 3 (ipykernel)",
   "language": "python",
   "name": "python3"
  },
  "language_info": {
   "codemirror_mode": {
    "name": "ipython",
    "version": 3
   },
   "file_extension": ".py",
   "mimetype": "text/x-python",
   "name": "python",
   "nbconvert_exporter": "python",
   "pygments_lexer": "ipython3",
   "version": "3.9.13"
  }
 },
 "nbformat": 4,
 "nbformat_minor": 5
}

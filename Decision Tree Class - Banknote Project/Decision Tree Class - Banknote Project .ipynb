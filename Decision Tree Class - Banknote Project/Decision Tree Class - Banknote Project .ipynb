{
 "cells": [
  {
   "cell_type": "markdown",
   "id": "5dc9c8f8",
   "metadata": {},
   "source": [
    " ## Decoding Authenticity: A Banknote Project with Decision Tree Classification"
   ]
  },
  {
   "cell_type": "markdown",
   "id": "03991a43",
   "metadata": {},
   "source": [
    "### Introduction:\n",
    "\n",
    "In the ever-evolving landscape of finance, ensuring the integrity of banknotes is crucial. Leveraging machine learning techniques, specifically the Decision Tree classifier, can enhance the authentication process. This blog takes you through a fascinating journey into a banknote project where we employ a Decision Tree model to detect counterfeit banknotes. The dataset includes features like Image Variance, Image Skewness, Image Kurtosis, Entropy, and the critical Class label indicating whether the banknote is genuine or fake."
   ]
  },
  {
   "cell_type": "code",
   "execution_count": 1,
   "id": "795746ef",
   "metadata": {},
   "outputs": [],
   "source": [
    "import pandas as pd \n",
    "import numpy as np \n",
    "import seaborn as sns \n",
    "import matplotlib.pyplot as plt\n",
    "import warnings\n",
    "warnings.filterwarnings(\"ignore\")"
   ]
  },
  {
   "cell_type": "markdown",
   "id": "2cfc8726",
   "metadata": {},
   "source": [
    "**Understanding the Banknote Dataset:**<br>\n",
    "**Data Collection:**<br>\n",
    "The foundation of our project lies in a dataset that captures various features extracted from images of banknotes. These *features* include measures of *variance, skewness, kurtosis, and entropy.* The dataset is labeled with the Class attribute, differentiating between genuine and counterfeit banknotes."
   ]
  },
  {
   "cell_type": "code",
   "execution_count": 2,
   "id": "a363aa42",
   "metadata": {},
   "outputs": [
    {
     "data": {
      "text/html": [
       "<div>\n",
       "<style scoped>\n",
       "    .dataframe tbody tr th:only-of-type {\n",
       "        vertical-align: middle;\n",
       "    }\n",
       "\n",
       "    .dataframe tbody tr th {\n",
       "        vertical-align: top;\n",
       "    }\n",
       "\n",
       "    .dataframe thead th {\n",
       "        text-align: right;\n",
       "    }\n",
       "</style>\n",
       "<table border=\"1\" class=\"dataframe\">\n",
       "  <thead>\n",
       "    <tr style=\"text-align: right;\">\n",
       "      <th></th>\n",
       "      <th>Image.Var</th>\n",
       "      <th>Image.Skew</th>\n",
       "      <th>Image.Curt</th>\n",
       "      <th>Entropy</th>\n",
       "      <th>Class</th>\n",
       "    </tr>\n",
       "  </thead>\n",
       "  <tbody>\n",
       "    <tr>\n",
       "      <th>0</th>\n",
       "      <td>3.62160</td>\n",
       "      <td>8.6661</td>\n",
       "      <td>-2.8073</td>\n",
       "      <td>-0.44699</td>\n",
       "      <td>0</td>\n",
       "    </tr>\n",
       "    <tr>\n",
       "      <th>1</th>\n",
       "      <td>4.54590</td>\n",
       "      <td>8.1674</td>\n",
       "      <td>-2.4586</td>\n",
       "      <td>-1.46210</td>\n",
       "      <td>0</td>\n",
       "    </tr>\n",
       "    <tr>\n",
       "      <th>2</th>\n",
       "      <td>3.86600</td>\n",
       "      <td>-2.6383</td>\n",
       "      <td>1.9242</td>\n",
       "      <td>0.10645</td>\n",
       "      <td>0</td>\n",
       "    </tr>\n",
       "    <tr>\n",
       "      <th>3</th>\n",
       "      <td>3.45660</td>\n",
       "      <td>9.5228</td>\n",
       "      <td>-4.0112</td>\n",
       "      <td>-3.59440</td>\n",
       "      <td>0</td>\n",
       "    </tr>\n",
       "    <tr>\n",
       "      <th>4</th>\n",
       "      <td>0.32924</td>\n",
       "      <td>-4.4552</td>\n",
       "      <td>4.5718</td>\n",
       "      <td>-0.98880</td>\n",
       "      <td>0</td>\n",
       "    </tr>\n",
       "  </tbody>\n",
       "</table>\n",
       "</div>"
      ],
      "text/plain": [
       "   Image.Var  Image.Skew  Image.Curt  Entropy  Class\n",
       "0    3.62160      8.6661     -2.8073 -0.44699      0\n",
       "1    4.54590      8.1674     -2.4586 -1.46210      0\n",
       "2    3.86600     -2.6383      1.9242  0.10645      0\n",
       "3    3.45660      9.5228     -4.0112 -3.59440      0\n",
       "4    0.32924     -4.4552      4.5718 -0.98880      0"
      ]
     },
     "execution_count": 2,
     "metadata": {},
     "output_type": "execute_result"
    }
   ],
   "source": [
    "df = pd.read_csv(\"bank_note_data.csv\")\n",
    "df.head()"
   ]
  },
  {
   "cell_type": "code",
   "execution_count": 3,
   "id": "aeca7b2e",
   "metadata": {},
   "outputs": [
    {
     "name": "stdout",
     "output_type": "stream",
     "text": [
      "<class 'pandas.core.frame.DataFrame'>\n",
      "RangeIndex: 1372 entries, 0 to 1371\n",
      "Data columns (total 5 columns):\n",
      " #   Column      Non-Null Count  Dtype  \n",
      "---  ------      --------------  -----  \n",
      " 0   Image.Var   1372 non-null   float64\n",
      " 1   Image.Skew  1372 non-null   float64\n",
      " 2   Image.Curt  1372 non-null   float64\n",
      " 3   Entropy     1372 non-null   float64\n",
      " 4   Class       1372 non-null   int64  \n",
      "dtypes: float64(4), int64(1)\n",
      "memory usage: 53.7 KB\n"
     ]
    }
   ],
   "source": [
    "df.info()"
   ]
  },
  {
   "cell_type": "code",
   "execution_count": 4,
   "id": "33319779",
   "metadata": {},
   "outputs": [
    {
     "data": {
      "text/html": [
       "<div>\n",
       "<style scoped>\n",
       "    .dataframe tbody tr th:only-of-type {\n",
       "        vertical-align: middle;\n",
       "    }\n",
       "\n",
       "    .dataframe tbody tr th {\n",
       "        vertical-align: top;\n",
       "    }\n",
       "\n",
       "    .dataframe thead th {\n",
       "        text-align: right;\n",
       "    }\n",
       "</style>\n",
       "<table border=\"1\" class=\"dataframe\">\n",
       "  <thead>\n",
       "    <tr style=\"text-align: right;\">\n",
       "      <th></th>\n",
       "      <th>count</th>\n",
       "      <th>mean</th>\n",
       "      <th>std</th>\n",
       "      <th>min</th>\n",
       "      <th>25%</th>\n",
       "      <th>50%</th>\n",
       "      <th>75%</th>\n",
       "      <th>max</th>\n",
       "    </tr>\n",
       "  </thead>\n",
       "  <tbody>\n",
       "    <tr>\n",
       "      <th>Image.Var</th>\n",
       "      <td>1372.0</td>\n",
       "      <td>0.433735</td>\n",
       "      <td>2.842763</td>\n",
       "      <td>-7.0421</td>\n",
       "      <td>-1.773000</td>\n",
       "      <td>0.49618</td>\n",
       "      <td>2.821475</td>\n",
       "      <td>6.8248</td>\n",
       "    </tr>\n",
       "    <tr>\n",
       "      <th>Image.Skew</th>\n",
       "      <td>1372.0</td>\n",
       "      <td>1.922353</td>\n",
       "      <td>5.869047</td>\n",
       "      <td>-13.7731</td>\n",
       "      <td>-1.708200</td>\n",
       "      <td>2.31965</td>\n",
       "      <td>6.814625</td>\n",
       "      <td>12.9516</td>\n",
       "    </tr>\n",
       "    <tr>\n",
       "      <th>Image.Curt</th>\n",
       "      <td>1372.0</td>\n",
       "      <td>1.397627</td>\n",
       "      <td>4.310030</td>\n",
       "      <td>-5.2861</td>\n",
       "      <td>-1.574975</td>\n",
       "      <td>0.61663</td>\n",
       "      <td>3.179250</td>\n",
       "      <td>17.9274</td>\n",
       "    </tr>\n",
       "    <tr>\n",
       "      <th>Entropy</th>\n",
       "      <td>1372.0</td>\n",
       "      <td>-1.191657</td>\n",
       "      <td>2.101013</td>\n",
       "      <td>-8.5482</td>\n",
       "      <td>-2.413450</td>\n",
       "      <td>-0.58665</td>\n",
       "      <td>0.394810</td>\n",
       "      <td>2.4495</td>\n",
       "    </tr>\n",
       "    <tr>\n",
       "      <th>Class</th>\n",
       "      <td>1372.0</td>\n",
       "      <td>0.444606</td>\n",
       "      <td>0.497103</td>\n",
       "      <td>0.0000</td>\n",
       "      <td>0.000000</td>\n",
       "      <td>0.00000</td>\n",
       "      <td>1.000000</td>\n",
       "      <td>1.0000</td>\n",
       "    </tr>\n",
       "  </tbody>\n",
       "</table>\n",
       "</div>"
      ],
      "text/plain": [
       "             count      mean       std      min       25%      50%       75%  \\\n",
       "Image.Var   1372.0  0.433735  2.842763  -7.0421 -1.773000  0.49618  2.821475   \n",
       "Image.Skew  1372.0  1.922353  5.869047 -13.7731 -1.708200  2.31965  6.814625   \n",
       "Image.Curt  1372.0  1.397627  4.310030  -5.2861 -1.574975  0.61663  3.179250   \n",
       "Entropy     1372.0 -1.191657  2.101013  -8.5482 -2.413450 -0.58665  0.394810   \n",
       "Class       1372.0  0.444606  0.497103   0.0000  0.000000  0.00000  1.000000   \n",
       "\n",
       "                max  \n",
       "Image.Var    6.8248  \n",
       "Image.Skew  12.9516  \n",
       "Image.Curt  17.9274  \n",
       "Entropy      2.4495  \n",
       "Class        1.0000  "
      ]
     },
     "execution_count": 4,
     "metadata": {},
     "output_type": "execute_result"
    }
   ],
   "source": [
    "df.describe().T"
   ]
  },
  {
   "cell_type": "markdown",
   "id": "d1d33d4d",
   "metadata": {},
   "source": [
    "**Data Preprocessing:**<br>\n",
    "Clean and preprocess the data to address any missing values, normalize features, and ensure that the dataset is ready for training our Decision Tree model."
   ]
  },
  {
   "cell_type": "code",
   "execution_count": 6,
   "id": "084e7a35",
   "metadata": {},
   "outputs": [
    {
     "data": {
      "text/plain": [
       "Image.Var     0\n",
       "Image.Skew    0\n",
       "Image.Curt    0\n",
       "Entropy       0\n",
       "Class         0\n",
       "dtype: int64"
      ]
     },
     "execution_count": 6,
     "metadata": {},
     "output_type": "execute_result"
    }
   ],
   "source": [
    "df.isna().sum()"
   ]
  },
  {
   "cell_type": "code",
   "execution_count": 7,
   "id": "13f400fc",
   "metadata": {},
   "outputs": [],
   "source": [
    "x = df.drop(\"Class\", axis =1)\n",
    "y = df[\"Class\"]"
   ]
  },
  {
   "cell_type": "code",
   "execution_count": 8,
   "id": "f39bb904",
   "metadata": {},
   "outputs": [
    {
     "data": {
      "text/html": [
       "<div>\n",
       "<style scoped>\n",
       "    .dataframe tbody tr th:only-of-type {\n",
       "        vertical-align: middle;\n",
       "    }\n",
       "\n",
       "    .dataframe tbody tr th {\n",
       "        vertical-align: top;\n",
       "    }\n",
       "\n",
       "    .dataframe thead th {\n",
       "        text-align: right;\n",
       "    }\n",
       "</style>\n",
       "<table border=\"1\" class=\"dataframe\">\n",
       "  <thead>\n",
       "    <tr style=\"text-align: right;\">\n",
       "      <th></th>\n",
       "      <th>Image.Var</th>\n",
       "      <th>Image.Skew</th>\n",
       "      <th>Image.Curt</th>\n",
       "      <th>Entropy</th>\n",
       "    </tr>\n",
       "  </thead>\n",
       "  <tbody>\n",
       "    <tr>\n",
       "      <th>0</th>\n",
       "      <td>3.62160</td>\n",
       "      <td>8.66610</td>\n",
       "      <td>-2.8073</td>\n",
       "      <td>-0.44699</td>\n",
       "    </tr>\n",
       "    <tr>\n",
       "      <th>1</th>\n",
       "      <td>4.54590</td>\n",
       "      <td>8.16740</td>\n",
       "      <td>-2.4586</td>\n",
       "      <td>-1.46210</td>\n",
       "    </tr>\n",
       "    <tr>\n",
       "      <th>2</th>\n",
       "      <td>3.86600</td>\n",
       "      <td>-2.63830</td>\n",
       "      <td>1.9242</td>\n",
       "      <td>0.10645</td>\n",
       "    </tr>\n",
       "    <tr>\n",
       "      <th>3</th>\n",
       "      <td>3.45660</td>\n",
       "      <td>9.52280</td>\n",
       "      <td>-4.0112</td>\n",
       "      <td>-3.59440</td>\n",
       "    </tr>\n",
       "    <tr>\n",
       "      <th>4</th>\n",
       "      <td>0.32924</td>\n",
       "      <td>-4.45520</td>\n",
       "      <td>4.5718</td>\n",
       "      <td>-0.98880</td>\n",
       "    </tr>\n",
       "    <tr>\n",
       "      <th>...</th>\n",
       "      <td>...</td>\n",
       "      <td>...</td>\n",
       "      <td>...</td>\n",
       "      <td>...</td>\n",
       "    </tr>\n",
       "    <tr>\n",
       "      <th>1367</th>\n",
       "      <td>0.40614</td>\n",
       "      <td>1.34920</td>\n",
       "      <td>-1.4501</td>\n",
       "      <td>-0.55949</td>\n",
       "    </tr>\n",
       "    <tr>\n",
       "      <th>1368</th>\n",
       "      <td>-1.38870</td>\n",
       "      <td>-4.87730</td>\n",
       "      <td>6.4774</td>\n",
       "      <td>0.34179</td>\n",
       "    </tr>\n",
       "    <tr>\n",
       "      <th>1369</th>\n",
       "      <td>-3.75030</td>\n",
       "      <td>-13.45860</td>\n",
       "      <td>17.5932</td>\n",
       "      <td>-2.77710</td>\n",
       "    </tr>\n",
       "    <tr>\n",
       "      <th>1370</th>\n",
       "      <td>-3.56370</td>\n",
       "      <td>-8.38270</td>\n",
       "      <td>12.3930</td>\n",
       "      <td>-1.28230</td>\n",
       "    </tr>\n",
       "    <tr>\n",
       "      <th>1371</th>\n",
       "      <td>-2.54190</td>\n",
       "      <td>-0.65804</td>\n",
       "      <td>2.6842</td>\n",
       "      <td>1.19520</td>\n",
       "    </tr>\n",
       "  </tbody>\n",
       "</table>\n",
       "<p>1372 rows × 4 columns</p>\n",
       "</div>"
      ],
      "text/plain": [
       "      Image.Var  Image.Skew  Image.Curt  Entropy\n",
       "0       3.62160     8.66610     -2.8073 -0.44699\n",
       "1       4.54590     8.16740     -2.4586 -1.46210\n",
       "2       3.86600    -2.63830      1.9242  0.10645\n",
       "3       3.45660     9.52280     -4.0112 -3.59440\n",
       "4       0.32924    -4.45520      4.5718 -0.98880\n",
       "...         ...         ...         ...      ...\n",
       "1367    0.40614     1.34920     -1.4501 -0.55949\n",
       "1368   -1.38870    -4.87730      6.4774  0.34179\n",
       "1369   -3.75030   -13.45860     17.5932 -2.77710\n",
       "1370   -3.56370    -8.38270     12.3930 -1.28230\n",
       "1371   -2.54190    -0.65804      2.6842  1.19520\n",
       "\n",
       "[1372 rows x 4 columns]"
      ]
     },
     "execution_count": 8,
     "metadata": {},
     "output_type": "execute_result"
    }
   ],
   "source": [
    "x"
   ]
  },
  {
   "cell_type": "code",
   "execution_count": 9,
   "id": "4fdb887f",
   "metadata": {},
   "outputs": [
    {
     "data": {
      "text/plain": [
       "0       0\n",
       "1       0\n",
       "2       0\n",
       "3       0\n",
       "4       0\n",
       "       ..\n",
       "1367    1\n",
       "1368    1\n",
       "1369    1\n",
       "1370    1\n",
       "1371    1\n",
       "Name: Class, Length: 1372, dtype: int64"
      ]
     },
     "execution_count": 9,
     "metadata": {},
     "output_type": "execute_result"
    }
   ],
   "source": [
    "y"
   ]
  },
  {
   "cell_type": "markdown",
   "id": "80b2091b",
   "metadata": {},
   "source": [
    "**Training the Decision Tree Classifier:**<br>\n",
    "Split the dataset into training and testing sets. Train the Decision Tree classifier using features like Image Variance, Image Skewness, Image Kurtosis, and Entropy to predict the authenticity of banknotes.<br>\n",
    "\n",
    "**Predictions and Evaluation:**<br>\n",
    "Apply the trained Decision Tree model to new data to predict whether a banknote is genuine or fake. Evaluate the model's performance using metrics such as accuracy, precision, and recall to ensure its effectiveness in distinguishing between authentic and counterfeit banknotes.<br>"
   ]
  },
  {
   "cell_type": "code",
   "execution_count": 10,
   "id": "f1467b72",
   "metadata": {},
   "outputs": [],
   "source": [
    "from sklearn.model_selection import train_test_split"
   ]
  },
  {
   "cell_type": "code",
   "execution_count": 11,
   "id": "24f2bc0b",
   "metadata": {},
   "outputs": [],
   "source": [
    "xtrain,xtest,ytrain,ytest = train_test_split(x, y, test_size=0.2,random_state=2)"
   ]
  },
  {
   "cell_type": "code",
   "execution_count": 12,
   "id": "885327fa",
   "metadata": {},
   "outputs": [
    {
     "data": {
      "text/plain": [
       "(1097, 4)"
      ]
     },
     "execution_count": 12,
     "metadata": {},
     "output_type": "execute_result"
    }
   ],
   "source": [
    "xtrain.shape"
   ]
  },
  {
   "cell_type": "code",
   "execution_count": 13,
   "id": "eac2e518",
   "metadata": {},
   "outputs": [
    {
     "data": {
      "text/plain": [
       "(1097,)"
      ]
     },
     "execution_count": 13,
     "metadata": {},
     "output_type": "execute_result"
    }
   ],
   "source": [
    "ytrain.shape"
   ]
  },
  {
   "cell_type": "code",
   "execution_count": 14,
   "id": "5c8a0bf0",
   "metadata": {},
   "outputs": [
    {
     "data": {
      "text/plain": [
       "(275, 4)"
      ]
     },
     "execution_count": 14,
     "metadata": {},
     "output_type": "execute_result"
    }
   ],
   "source": [
    "xtest.shape"
   ]
  },
  {
   "cell_type": "code",
   "execution_count": 15,
   "id": "7ef0e8b5",
   "metadata": {},
   "outputs": [
    {
     "data": {
      "text/plain": [
       "(275,)"
      ]
     },
     "execution_count": 15,
     "metadata": {},
     "output_type": "execute_result"
    }
   ],
   "source": [
    "ytest.shape"
   ]
  },
  {
   "cell_type": "markdown",
   "id": "c9edf7e5",
   "metadata": {},
   "source": [
    "### Using gini"
   ]
  },
  {
   "cell_type": "code",
   "execution_count": 33,
   "id": "e7c429cf",
   "metadata": {},
   "outputs": [
    {
     "data": {
      "text/plain": [
       "DecisionTreeClassifier()"
      ]
     },
     "execution_count": 33,
     "metadata": {},
     "output_type": "execute_result"
    }
   ],
   "source": [
    "from sklearn.tree import DecisionTreeClassifier\n",
    "dtc_gini = DecisionTreeClassifier(criterion='gini')\n",
    "dtc_gini.fit(xtrain, ytrain)"
   ]
  },
  {
   "cell_type": "code",
   "execution_count": 34,
   "id": "b4225b97",
   "metadata": {},
   "outputs": [
    {
     "name": "stdout",
     "output_type": "stream",
     "text": [
      "Training score of DT classification :  1.0\n"
     ]
    }
   ],
   "source": [
    "print(\"Training score of DT classification : \" , dtc_gini.score(xtrain,ytrain))"
   ]
  },
  {
   "cell_type": "code",
   "execution_count": 35,
   "id": "8de254ea",
   "metadata": {},
   "outputs": [
    {
     "name": "stdout",
     "output_type": "stream",
     "text": [
      "Testing score of DT classification :  0.9854545454545455\n"
     ]
    }
   ],
   "source": [
    "print(\"Testing score of DT classification : \" , dtc_gini.score(xtest,ytest))"
   ]
  },
  {
   "cell_type": "code",
   "execution_count": 36,
   "id": "8437b852",
   "metadata": {},
   "outputs": [],
   "source": [
    "pred_dtc_gini = dtc_gini.predict(xtest)"
   ]
  },
  {
   "cell_type": "code",
   "execution_count": 37,
   "id": "3fd43a6f",
   "metadata": {},
   "outputs": [
    {
     "name": "stdout",
     "output_type": "stream",
     "text": [
      "[0 0 0 0 1 1 1 0 0 1 1 1 1 0 1 1 1 1 1 0 1 0 0 0 1 1 1 1 0 0 1 0 1 1 1 1 0\n",
      " 0 0 0 1 1 1 0 0 1 0 0 0 0 1 0 0 1 0 0 0 0 1 0 0 0 1 1 0 1 1 1 1 0 0 1 1 0\n",
      " 0 0 1 1 0 1 1 1 1 1 1 0 1 1 1 1 0 1 1 1 0 0 1 0 1 0 1 1 1 0 0 0 0 0 0 0 1\n",
      " 1 1 1 0 1 1 0 0 1 0 1 0 1 1 1 1 0 0 0 0 1 0 0 1 0 1 1 0 0 0 0 0 1 0 1 0 1\n",
      " 1 1 1 1 0 0 0 1 1 1 0 1 0 1 0 1 1 0 1 0 0 1 0 1 1 1 1 0 0 1 0 1 0 1 1 0 0\n",
      " 0 0 0 1 0 1 0 1 0 0 0 0 0 1 0 1 0 0 0 1 1 0 1 1 0 1 1 0 0 0 0 0 0 1 0 0 0\n",
      " 0 1 0 1 0 1 1 1 0 1 0 0 1 1 1 0 0 1 1 1 1 0 1 0 1 0 1 0 0 1 0 0 0 1 1 1 1\n",
      " 1 0 0 0 0 1 0 1 1 0 1 1 0 0 0 0]\n"
     ]
    }
   ],
   "source": [
    "print(pred_dtc_gini)"
   ]
  },
  {
   "cell_type": "code",
   "execution_count": 38,
   "id": "dbeaf04f",
   "metadata": {},
   "outputs": [
    {
     "name": "stdout",
     "output_type": "stream",
     "text": [
      "[[139   4]\n",
      " [  0 132]]\n"
     ]
    }
   ],
   "source": [
    "from sklearn.metrics import confusion_matrix\n",
    "cm_gini = confusion_matrix(ytest,pred_dtc_gini)\n",
    "print(cm_gini)"
   ]
  },
  {
   "cell_type": "code",
   "execution_count": 39,
   "id": "9b3dd3df",
   "metadata": {},
   "outputs": [
    {
     "name": "stdout",
     "output_type": "stream",
     "text": [
      "Classification Report \n",
      "               precision    recall  f1-score   support\n",
      "\n",
      "           0       1.00      0.97      0.99       143\n",
      "           1       0.97      1.00      0.99       132\n",
      "\n",
      "    accuracy                           0.99       275\n",
      "   macro avg       0.99      0.99      0.99       275\n",
      "weighted avg       0.99      0.99      0.99       275\n",
      "\n"
     ]
    }
   ],
   "source": [
    "from sklearn.metrics import classification_report, accuracy_score\n",
    "\n",
    "print(\"Classification Report \\n\", classification_report(ytest, pred_dtc_gini))"
   ]
  },
  {
   "cell_type": "code",
   "execution_count": null,
   "id": "26e17a0e",
   "metadata": {},
   "outputs": [],
   "source": []
  },
  {
   "cell_type": "code",
   "execution_count": 40,
   "id": "7b4c8b0f",
   "metadata": {},
   "outputs": [
    {
     "name": "stdout",
     "output_type": "stream",
     "text": [
      "Accuracy:- \n",
      " 0.9854545454545455\n"
     ]
    }
   ],
   "source": [
    "print(\"Accuracy:- \\n\", accuracy_score(ytest, pred_dtc_gini))"
   ]
  },
  {
   "cell_type": "code",
   "execution_count": null,
   "id": "8439f19b",
   "metadata": {},
   "outputs": [],
   "source": []
  },
  {
   "cell_type": "markdown",
   "id": "2fb65b86",
   "metadata": {},
   "source": [
    "### using Entropy"
   ]
  },
  {
   "cell_type": "code",
   "execution_count": null,
   "id": "b4566ce9",
   "metadata": {},
   "outputs": [],
   "source": []
  },
  {
   "cell_type": "code",
   "execution_count": 41,
   "id": "18bb9f21",
   "metadata": {},
   "outputs": [
    {
     "data": {
      "text/plain": [
       "DecisionTreeClassifier(criterion='entropy')"
      ]
     },
     "execution_count": 41,
     "metadata": {},
     "output_type": "execute_result"
    }
   ],
   "source": [
    "from sklearn.tree import DecisionTreeClassifier\n",
    "dtc_ent = DecisionTreeClassifier(criterion='entropy')\n",
    "dtc_ent.fit(xtrain, ytrain)"
   ]
  },
  {
   "cell_type": "code",
   "execution_count": 42,
   "id": "67172a4c",
   "metadata": {},
   "outputs": [
    {
     "name": "stdout",
     "output_type": "stream",
     "text": [
      "Training score of DT classification :  1.0\n",
      "Testing score of DT classification :  0.9745454545454545\n"
     ]
    }
   ],
   "source": [
    "print(\"Training score of DT classification : \" , dtc_ent.score(xtrain,ytrain))\n",
    "\n",
    "print(\"Testing score of DT classification : \" , dtc_ent.score(xtest,ytest))"
   ]
  },
  {
   "cell_type": "code",
   "execution_count": 43,
   "id": "f1261a03",
   "metadata": {},
   "outputs": [],
   "source": [
    "ypred_dtc_ent = dtc_ent.predict(xtest)"
   ]
  },
  {
   "cell_type": "code",
   "execution_count": 44,
   "id": "bdde0c7c",
   "metadata": {},
   "outputs": [
    {
     "data": {
      "text/plain": [
       "array([0, 0, 0, 0, 1, 1, 1, 0, 0, 1, 1, 1, 1, 0, 1, 1, 1, 1, 1, 0, 1, 0,\n",
       "       0, 0, 1, 1, 1, 1, 0, 0, 1, 0, 1, 1, 1, 1, 0, 0, 0, 0, 1, 1, 1, 0,\n",
       "       0, 1, 0, 0, 0, 0, 1, 0, 0, 1, 0, 0, 0, 0, 1, 0, 0, 0, 1, 1, 0, 1,\n",
       "       1, 1, 1, 0, 0, 1, 1, 0, 1, 0, 1, 1, 0, 1, 1, 1, 1, 1, 1, 0, 1, 1,\n",
       "       1, 1, 0, 1, 1, 1, 0, 0, 1, 0, 1, 0, 1, 1, 1, 0, 0, 0, 0, 0, 0, 0,\n",
       "       1, 1, 1, 1, 0, 1, 1, 0, 0, 1, 0, 1, 0, 1, 1, 1, 1, 0, 0, 0, 0, 1,\n",
       "       0, 0, 1, 0, 1, 1, 0, 0, 0, 0, 0, 1, 0, 1, 0, 1, 1, 1, 1, 1, 0, 0,\n",
       "       0, 1, 1, 1, 0, 1, 0, 1, 0, 1, 1, 0, 1, 0, 0, 1, 0, 1, 1, 1, 0, 0,\n",
       "       0, 1, 0, 1, 0, 1, 1, 0, 0, 0, 0, 0, 1, 0, 1, 0, 1, 0, 0, 0, 0, 0,\n",
       "       1, 0, 1, 0, 0, 0, 1, 1, 0, 1, 1, 0, 1, 1, 0, 0, 0, 0, 0, 0, 1, 0,\n",
       "       0, 0, 0, 1, 0, 1, 0, 1, 1, 1, 0, 1, 0, 0, 1, 1, 1, 0, 0, 1, 1, 1,\n",
       "       1, 0, 1, 0, 1, 0, 1, 0, 0, 1, 0, 1, 0, 1, 1, 1, 1, 1, 0, 0, 0, 0,\n",
       "       1, 0, 1, 1, 0, 1, 1, 0, 0, 0, 0], dtype=int64)"
      ]
     },
     "execution_count": 44,
     "metadata": {},
     "output_type": "execute_result"
    }
   ],
   "source": [
    "ypred_dtc_ent"
   ]
  },
  {
   "cell_type": "code",
   "execution_count": 45,
   "id": "03ab6a96",
   "metadata": {},
   "outputs": [
    {
     "data": {
      "text/html": [
       "<div>\n",
       "<style scoped>\n",
       "    .dataframe tbody tr th:only-of-type {\n",
       "        vertical-align: middle;\n",
       "    }\n",
       "\n",
       "    .dataframe tbody tr th {\n",
       "        vertical-align: top;\n",
       "    }\n",
       "\n",
       "    .dataframe thead th {\n",
       "        text-align: right;\n",
       "    }\n",
       "</style>\n",
       "<table border=\"1\" class=\"dataframe\">\n",
       "  <thead>\n",
       "    <tr style=\"text-align: right;\">\n",
       "      <th></th>\n",
       "      <th>Image.Var</th>\n",
       "      <th>Image.Skew</th>\n",
       "      <th>Image.Curt</th>\n",
       "      <th>Entropy</th>\n",
       "    </tr>\n",
       "  </thead>\n",
       "  <tbody>\n",
       "    <tr>\n",
       "      <th>199</th>\n",
       "      <td>5.88620</td>\n",
       "      <td>5.87470</td>\n",
       "      <td>-2.81670</td>\n",
       "      <td>-0.30087</td>\n",
       "    </tr>\n",
       "    <tr>\n",
       "      <th>696</th>\n",
       "      <td>1.64500</td>\n",
       "      <td>7.86120</td>\n",
       "      <td>-0.87598</td>\n",
       "      <td>-3.55690</td>\n",
       "    </tr>\n",
       "    <tr>\n",
       "      <th>45</th>\n",
       "      <td>-0.78690</td>\n",
       "      <td>9.56630</td>\n",
       "      <td>-3.78670</td>\n",
       "      <td>-7.50340</td>\n",
       "    </tr>\n",
       "    <tr>\n",
       "      <th>738</th>\n",
       "      <td>0.92703</td>\n",
       "      <td>9.43180</td>\n",
       "      <td>-0.66263</td>\n",
       "      <td>-1.67280</td>\n",
       "    </tr>\n",
       "    <tr>\n",
       "      <th>792</th>\n",
       "      <td>-2.73380</td>\n",
       "      <td>0.45523</td>\n",
       "      <td>2.43910</td>\n",
       "      <td>0.21766</td>\n",
       "    </tr>\n",
       "    <tr>\n",
       "      <th>...</th>\n",
       "      <td>...</td>\n",
       "      <td>...</td>\n",
       "      <td>...</td>\n",
       "      <td>...</td>\n",
       "    </tr>\n",
       "    <tr>\n",
       "      <th>1202</th>\n",
       "      <td>-0.70346</td>\n",
       "      <td>2.95700</td>\n",
       "      <td>-3.59470</td>\n",
       "      <td>-3.14570</td>\n",
       "    </tr>\n",
       "    <tr>\n",
       "      <th>695</th>\n",
       "      <td>0.49571</td>\n",
       "      <td>10.22430</td>\n",
       "      <td>-1.09700</td>\n",
       "      <td>-4.01590</td>\n",
       "    </tr>\n",
       "    <tr>\n",
       "      <th>99</th>\n",
       "      <td>-2.74190</td>\n",
       "      <td>11.40380</td>\n",
       "      <td>2.53940</td>\n",
       "      <td>-5.57930</td>\n",
       "    </tr>\n",
       "    <tr>\n",
       "      <th>328</th>\n",
       "      <td>3.51520</td>\n",
       "      <td>6.82240</td>\n",
       "      <td>-0.67377</td>\n",
       "      <td>-0.46898</td>\n",
       "    </tr>\n",
       "    <tr>\n",
       "      <th>83</th>\n",
       "      <td>1.86640</td>\n",
       "      <td>7.77630</td>\n",
       "      <td>-0.23849</td>\n",
       "      <td>-2.96340</td>\n",
       "    </tr>\n",
       "  </tbody>\n",
       "</table>\n",
       "<p>275 rows × 4 columns</p>\n",
       "</div>"
      ],
      "text/plain": [
       "      Image.Var  Image.Skew  Image.Curt  Entropy\n",
       "199     5.88620     5.87470    -2.81670 -0.30087\n",
       "696     1.64500     7.86120    -0.87598 -3.55690\n",
       "45     -0.78690     9.56630    -3.78670 -7.50340\n",
       "738     0.92703     9.43180    -0.66263 -1.67280\n",
       "792    -2.73380     0.45523     2.43910  0.21766\n",
       "...         ...         ...         ...      ...\n",
       "1202   -0.70346     2.95700    -3.59470 -3.14570\n",
       "695     0.49571    10.22430    -1.09700 -4.01590\n",
       "99     -2.74190    11.40380     2.53940 -5.57930\n",
       "328     3.51520     6.82240    -0.67377 -0.46898\n",
       "83      1.86640     7.77630    -0.23849 -2.96340\n",
       "\n",
       "[275 rows x 4 columns]"
      ]
     },
     "execution_count": 45,
     "metadata": {},
     "output_type": "execute_result"
    }
   ],
   "source": [
    "xtest"
   ]
  },
  {
   "cell_type": "code",
   "execution_count": 46,
   "id": "c66ab359",
   "metadata": {},
   "outputs": [
    {
     "name": "stdout",
     "output_type": "stream",
     "text": [
      "[[137   6]\n",
      " [  1 131]]\n"
     ]
    }
   ],
   "source": [
    "from sklearn.metrics import confusion_matrix\n",
    "cm_ent = confusion_matrix(ytest, ypred_dtc_ent)\n",
    "print(cm_ent)"
   ]
  },
  {
   "cell_type": "code",
   "execution_count": 47,
   "id": "b2326a86",
   "metadata": {},
   "outputs": [],
   "source": [
    "from sklearn.metrics import classification_report,accuracy_score\n"
   ]
  },
  {
   "cell_type": "code",
   "execution_count": 52,
   "id": "f9f24ada",
   "metadata": {},
   "outputs": [
    {
     "name": "stdout",
     "output_type": "stream",
     "text": [
      "Classification Report : \n",
      "                precision    recall  f1-score   support\n",
      "\n",
      "           0       0.99      0.96      0.98       143\n",
      "           1       0.96      0.99      0.97       132\n",
      "\n",
      "    accuracy                           0.97       275\n",
      "   macro avg       0.97      0.98      0.97       275\n",
      "weighted avg       0.98      0.97      0.97       275\n",
      "\n"
     ]
    }
   ],
   "source": [
    "print(\"Classification Report : \\n \", classification_report(ytest,ypred_dtc_ent))"
   ]
  },
  {
   "cell_type": "code",
   "execution_count": 53,
   "id": "c7430c35",
   "metadata": {},
   "outputs": [
    {
     "name": "stdout",
     "output_type": "stream",
     "text": [
      "Accuracy:  0.9745454545454545\n"
     ]
    }
   ],
   "source": [
    "print(\"Accuracy: \" , accuracy_score(ytest, ypred_dtc_ent))"
   ]
  },
  {
   "cell_type": "code",
   "execution_count": 54,
   "id": "4cb5035e",
   "metadata": {},
   "outputs": [
    {
     "name": "stdout",
     "output_type": "stream",
     "text": [
      "|--- feature_0 <= 0.32\n",
      "|   |--- feature_1 <= 5.87\n",
      "|   |   |--- feature_2 <= 7.01\n",
      "|   |   |   |--- feature_1 <= 4.09\n",
      "|   |   |   |   |--- feature_0 <= -0.26\n",
      "|   |   |   |   |   |--- class: 1\n",
      "|   |   |   |   |--- feature_0 >  -0.26\n",
      "|   |   |   |   |   |--- feature_2 <= 3.52\n",
      "|   |   |   |   |   |   |--- class: 1\n",
      "|   |   |   |   |   |--- feature_2 >  3.52\n",
      "|   |   |   |   |   |   |--- class: 0\n",
      "|   |   |   |--- feature_1 >  4.09\n",
      "|   |   |   |   |--- feature_2 <= 1.83\n",
      "|   |   |   |   |   |--- class: 1\n",
      "|   |   |   |   |--- feature_2 >  1.83\n",
      "|   |   |   |   |   |--- class: 0\n",
      "|   |   |--- feature_2 >  7.01\n",
      "|   |   |   |--- feature_1 <= -4.80\n",
      "|   |   |   |   |--- feature_0 <= -0.78\n",
      "|   |   |   |   |   |--- class: 1\n",
      "|   |   |   |   |--- feature_0 >  -0.78\n",
      "|   |   |   |   |   |--- class: 0\n",
      "|   |   |   |--- feature_1 >  -4.80\n",
      "|   |   |   |   |--- class: 0\n",
      "|   |--- feature_1 >  5.87\n",
      "|   |   |--- feature_0 <= -3.43\n",
      "|   |   |   |--- feature_3 <= -1.92\n",
      "|   |   |   |   |--- class: 1\n",
      "|   |   |   |--- feature_3 >  -1.92\n",
      "|   |   |   |   |--- class: 0\n",
      "|   |   |--- feature_0 >  -3.43\n",
      "|   |   |   |--- class: 0\n",
      "|--- feature_0 >  0.32\n",
      "|   |--- feature_2 <= -4.39\n",
      "|   |   |--- feature_1 <= 7.19\n",
      "|   |   |   |--- class: 1\n",
      "|   |   |--- feature_1 >  7.19\n",
      "|   |   |   |--- class: 0\n",
      "|   |--- feature_2 >  -4.39\n",
      "|   |   |--- feature_0 <= 1.59\n",
      "|   |   |   |--- feature_2 <= -2.27\n",
      "|   |   |   |   |--- feature_1 <= 5.66\n",
      "|   |   |   |   |   |--- class: 1\n",
      "|   |   |   |   |--- feature_1 >  5.66\n",
      "|   |   |   |   |   |--- class: 0\n",
      "|   |   |   |--- feature_2 >  -2.27\n",
      "|   |   |   |   |--- feature_3 <= 0.08\n",
      "|   |   |   |   |   |--- feature_0 <= 0.42\n",
      "|   |   |   |   |   |   |--- feature_0 <= 0.40\n",
      "|   |   |   |   |   |   |   |--- class: 0\n",
      "|   |   |   |   |   |   |--- feature_0 >  0.40\n",
      "|   |   |   |   |   |   |   |--- class: 1\n",
      "|   |   |   |   |   |--- feature_0 >  0.42\n",
      "|   |   |   |   |   |   |--- class: 0\n",
      "|   |   |   |   |--- feature_3 >  0.08\n",
      "|   |   |   |   |   |--- feature_2 <= 1.85\n",
      "|   |   |   |   |   |   |--- feature_1 <= 3.56\n",
      "|   |   |   |   |   |   |   |--- class: 1\n",
      "|   |   |   |   |   |   |--- feature_1 >  3.56\n",
      "|   |   |   |   |   |   |   |--- class: 0\n",
      "|   |   |   |   |   |--- feature_2 >  1.85\n",
      "|   |   |   |   |   |   |--- class: 0\n",
      "|   |   |--- feature_0 >  1.59\n",
      "|   |   |   |--- feature_0 <= 2.04\n",
      "|   |   |   |   |--- feature_2 <= -2.68\n",
      "|   |   |   |   |   |--- feature_3 <= -1.80\n",
      "|   |   |   |   |   |   |--- class: 0\n",
      "|   |   |   |   |   |--- feature_3 >  -1.80\n",
      "|   |   |   |   |   |   |--- class: 1\n",
      "|   |   |   |   |--- feature_2 >  -2.68\n",
      "|   |   |   |   |   |--- class: 0\n",
      "|   |   |   |--- feature_0 >  2.04\n",
      "|   |   |   |   |--- class: 0\n",
      "\n"
     ]
    }
   ],
   "source": [
    "from sklearn import tree\n",
    "tree_dtc = tree.export_text(dtc_gini)\n",
    "print(tree_dtc)"
   ]
  },
  {
   "cell_type": "code",
   "execution_count": 59,
   "id": "d7862bf1",
   "metadata": {},
   "outputs": [
    {
     "name": "stdout",
     "output_type": "stream",
     "text": [
      "[Text(0.5052816901408451, 0.9375, 'X[0] <= 0.321\\ngini = 0.492\\nsamples = 1097\\nvalue = [619, 478]'), Text(0.33098591549295775, 0.8125, 'X[1] <= 5.865\\ngini = 0.315\\nsamples = 516\\nvalue = [101, 415]'), Text(0.2112676056338028, 0.6875, 'X[2] <= 7.006\\ngini = 0.081\\nsamples = 401\\nvalue = [17, 384]'), Text(0.11267605633802817, 0.5625, 'X[1] <= 4.094\\ngini = 0.013\\nsamples = 296\\nvalue = [2, 294]'), Text(0.056338028169014086, 0.4375, 'X[0] <= -0.257\\ngini = 0.007\\nsamples = 284\\nvalue = [1, 283]'), Text(0.028169014084507043, 0.3125, 'gini = 0.0\\nsamples = 249\\nvalue = [0, 249]'), Text(0.08450704225352113, 0.3125, 'X[2] <= 3.521\\ngini = 0.056\\nsamples = 35\\nvalue = [1, 34]'), Text(0.056338028169014086, 0.1875, 'gini = 0.0\\nsamples = 34\\nvalue = [0, 34]'), Text(0.11267605633802817, 0.1875, 'gini = 0.0\\nsamples = 1\\nvalue = [1, 0]'), Text(0.16901408450704225, 0.4375, 'X[2] <= 1.831\\ngini = 0.153\\nsamples = 12\\nvalue = [1, 11]'), Text(0.14084507042253522, 0.3125, 'gini = 0.0\\nsamples = 11\\nvalue = [0, 11]'), Text(0.19718309859154928, 0.3125, 'gini = 0.0\\nsamples = 1\\nvalue = [1, 0]'), Text(0.30985915492957744, 0.5625, 'X[1] <= -4.8\\ngini = 0.245\\nsamples = 105\\nvalue = [15, 90]'), Text(0.28169014084507044, 0.4375, 'X[0] <= -0.779\\ngini = 0.022\\nsamples = 91\\nvalue = [1, 90]'), Text(0.2535211267605634, 0.3125, 'gini = 0.0\\nsamples = 90\\nvalue = [0, 90]'), Text(0.30985915492957744, 0.3125, 'gini = 0.0\\nsamples = 1\\nvalue = [1, 0]'), Text(0.3380281690140845, 0.4375, 'gini = 0.0\\nsamples = 14\\nvalue = [14, 0]'), Text(0.4507042253521127, 0.6875, 'X[0] <= -3.431\\ngini = 0.394\\nsamples = 115\\nvalue = [84, 31]'), Text(0.4225352112676056, 0.5625, 'X[3] <= -1.916\\ngini = 0.061\\nsamples = 32\\nvalue = [1, 31]'), Text(0.39436619718309857, 0.4375, 'gini = 0.0\\nsamples = 31\\nvalue = [0, 31]'), Text(0.4507042253521127, 0.4375, 'gini = 0.0\\nsamples = 1\\nvalue = [1, 0]'), Text(0.4788732394366197, 0.5625, 'gini = 0.0\\nsamples = 83\\nvalue = [83, 0]'), Text(0.6795774647887324, 0.8125, 'X[2] <= -4.386\\ngini = 0.193\\nsamples = 581\\nvalue = [518, 63]'), Text(0.5633802816901409, 0.6875, 'X[1] <= 7.192\\ngini = 0.401\\nsamples = 36\\nvalue = [10, 26]'), Text(0.5352112676056338, 0.5625, 'gini = 0.0\\nsamples = 26\\nvalue = [0, 26]'), Text(0.5915492957746479, 0.5625, 'gini = 0.0\\nsamples = 10\\nvalue = [10, 0]'), Text(0.795774647887324, 0.6875, 'X[0] <= 1.592\\ngini = 0.127\\nsamples = 545\\nvalue = [508, 37]'), Text(0.647887323943662, 0.5625, 'X[2] <= -2.272\\ngini = 0.363\\nsamples = 147\\nvalue = [112, 35]'), Text(0.5774647887323944, 0.4375, 'X[1] <= 5.657\\ngini = 0.172\\nsamples = 21\\nvalue = [2, 19]'), Text(0.5492957746478874, 0.3125, 'gini = 0.0\\nsamples = 19\\nvalue = [0, 19]'), Text(0.6056338028169014, 0.3125, 'gini = 0.0\\nsamples = 2\\nvalue = [2, 0]'), Text(0.7183098591549296, 0.4375, 'X[3] <= 0.082\\ngini = 0.222\\nsamples = 126\\nvalue = [110, 16]'), Text(0.6619718309859155, 0.3125, 'X[0] <= 0.42\\ngini = 0.021\\nsamples = 94\\nvalue = [93, 1]'), Text(0.6338028169014085, 0.1875, 'X[0] <= 0.401\\ngini = 0.142\\nsamples = 13\\nvalue = [12, 1]'), Text(0.6056338028169014, 0.0625, 'gini = 0.0\\nsamples = 12\\nvalue = [12, 0]'), Text(0.6619718309859155, 0.0625, 'gini = 0.0\\nsamples = 1\\nvalue = [0, 1]'), Text(0.6901408450704225, 0.1875, 'gini = 0.0\\nsamples = 81\\nvalue = [81, 0]'), Text(0.7746478873239436, 0.3125, 'X[2] <= 1.853\\ngini = 0.498\\nsamples = 32\\nvalue = [17, 15]'), Text(0.7464788732394366, 0.1875, 'X[1] <= 3.559\\ngini = 0.208\\nsamples = 17\\nvalue = [2, 15]'), Text(0.7183098591549296, 0.0625, 'gini = 0.0\\nsamples = 15\\nvalue = [0, 15]'), Text(0.7746478873239436, 0.0625, 'gini = 0.0\\nsamples = 2\\nvalue = [2, 0]'), Text(0.8028169014084507, 0.1875, 'gini = 0.0\\nsamples = 15\\nvalue = [15, 0]'), Text(0.9436619718309859, 0.5625, 'X[0] <= 2.037\\ngini = 0.01\\nsamples = 398\\nvalue = [396, 2]'), Text(0.9154929577464789, 0.4375, 'X[2] <= -2.675\\ngini = 0.087\\nsamples = 44\\nvalue = [42, 2]'), Text(0.8873239436619719, 0.3125, 'X[3] <= -1.796\\ngini = 0.444\\nsamples = 3\\nvalue = [1, 2]'), Text(0.8591549295774648, 0.1875, 'gini = 0.0\\nsamples = 1\\nvalue = [1, 0]'), Text(0.9154929577464789, 0.1875, 'gini = 0.0\\nsamples = 2\\nvalue = [0, 2]'), Text(0.9436619718309859, 0.3125, 'gini = 0.0\\nsamples = 41\\nvalue = [41, 0]'), Text(0.971830985915493, 0.4375, 'gini = 0.0\\nsamples = 354\\nvalue = [354, 0]')]\n"
     ]
    },
    {
     "data": {
      "image/png": "[encoded data removed]",
      "text/plain": [
       "<Figure size 640x480 with 1 Axes>"
      ]
     },
     "metadata": {},
     "output_type": "display_data"
    }
   ],
   "source": [
    "from sklearn import tree\n",
    "tree2 = tree.plot_tree(dtc_gini)\n",
    "print(tree2)"
   ]
  },
  {
   "cell_type": "markdown",
   "id": "7c54200f",
   "metadata": {},
   "source": [
    "## Decision tree regression"
   ]
  },
  {
   "cell_type": "code",
   "execution_count": 60,
   "id": "0c0fdace",
   "metadata": {},
   "outputs": [
    {
     "data": {
      "text/html": [
       "<div>\n",
       "<style scoped>\n",
       "    .dataframe tbody tr th:only-of-type {\n",
       "        vertical-align: middle;\n",
       "    }\n",
       "\n",
       "    .dataframe tbody tr th {\n",
       "        vertical-align: top;\n",
       "    }\n",
       "\n",
       "    .dataframe thead th {\n",
       "        text-align: right;\n",
       "    }\n",
       "</style>\n",
       "<table border=\"1\" class=\"dataframe\">\n",
       "  <thead>\n",
       "    <tr style=\"text-align: right;\">\n",
       "      <th></th>\n",
       "      <th>Petrol_tax</th>\n",
       "      <th>Average_income</th>\n",
       "      <th>Paved_Highways</th>\n",
       "      <th>Population_Driver_licence(%)</th>\n",
       "      <th>Petrol_Consumption</th>\n",
       "    </tr>\n",
       "  </thead>\n",
       "  <tbody>\n",
       "    <tr>\n",
       "      <th>0</th>\n",
       "      <td>9.0</td>\n",
       "      <td>3571</td>\n",
       "      <td>1976</td>\n",
       "      <td>0.525</td>\n",
       "      <td>541</td>\n",
       "    </tr>\n",
       "    <tr>\n",
       "      <th>1</th>\n",
       "      <td>9.0</td>\n",
       "      <td>4092</td>\n",
       "      <td>1250</td>\n",
       "      <td>0.572</td>\n",
       "      <td>524</td>\n",
       "    </tr>\n",
       "    <tr>\n",
       "      <th>2</th>\n",
       "      <td>9.0</td>\n",
       "      <td>3865</td>\n",
       "      <td>1586</td>\n",
       "      <td>0.580</td>\n",
       "      <td>561</td>\n",
       "    </tr>\n",
       "    <tr>\n",
       "      <th>3</th>\n",
       "      <td>7.5</td>\n",
       "      <td>4870</td>\n",
       "      <td>2351</td>\n",
       "      <td>0.529</td>\n",
       "      <td>414</td>\n",
       "    </tr>\n",
       "    <tr>\n",
       "      <th>4</th>\n",
       "      <td>8.0</td>\n",
       "      <td>4399</td>\n",
       "      <td>431</td>\n",
       "      <td>0.544</td>\n",
       "      <td>410</td>\n",
       "    </tr>\n",
       "  </tbody>\n",
       "</table>\n",
       "</div>"
      ],
      "text/plain": [
       "   Petrol_tax  Average_income  Paved_Highways  Population_Driver_licence(%)  \\\n",
       "0         9.0            3571            1976                         0.525   \n",
       "1         9.0            4092            1250                         0.572   \n",
       "2         9.0            3865            1586                         0.580   \n",
       "3         7.5            4870            2351                         0.529   \n",
       "4         8.0            4399             431                         0.544   \n",
       "\n",
       "   Petrol_Consumption  \n",
       "0                 541  \n",
       "1                 524  \n",
       "2                 561  \n",
       "3                 414  \n",
       "4                 410  "
      ]
     },
     "execution_count": 60,
     "metadata": {},
     "output_type": "execute_result"
    }
   ],
   "source": [
    "df_dtr = pd.read_csv(\"petrol_consumption.csv\")\n",
    "df_dtr.head()"
   ]
  },
  {
   "cell_type": "code",
   "execution_count": 62,
   "id": "e08b785d",
   "metadata": {},
   "outputs": [
    {
     "name": "stdout",
     "output_type": "stream",
     "text": [
      "<class 'pandas.core.frame.DataFrame'>\n",
      "RangeIndex: 48 entries, 0 to 47\n",
      "Data columns (total 5 columns):\n",
      " #   Column                        Non-Null Count  Dtype  \n",
      "---  ------                        --------------  -----  \n",
      " 0   Petrol_tax                    48 non-null     float64\n",
      " 1   Average_income                48 non-null     int64  \n",
      " 2   Paved_Highways                48 non-null     int64  \n",
      " 3   Population_Driver_licence(%)  48 non-null     float64\n",
      " 4   Petrol_Consumption            48 non-null     int64  \n",
      "dtypes: float64(2), int64(3)\n",
      "memory usage: 2.0 KB\n"
     ]
    }
   ],
   "source": [
    "df_dtr.info()"
   ]
  },
  {
   "cell_type": "code",
   "execution_count": 63,
   "id": "b80937c6",
   "metadata": {},
   "outputs": [
    {
     "data": {
      "text/html": [
       "<div>\n",
       "<style scoped>\n",
       "    .dataframe tbody tr th:only-of-type {\n",
       "        vertical-align: middle;\n",
       "    }\n",
       "\n",
       "    .dataframe tbody tr th {\n",
       "        vertical-align: top;\n",
       "    }\n",
       "\n",
       "    .dataframe thead th {\n",
       "        text-align: right;\n",
       "    }\n",
       "</style>\n",
       "<table border=\"1\" class=\"dataframe\">\n",
       "  <thead>\n",
       "    <tr style=\"text-align: right;\">\n",
       "      <th></th>\n",
       "      <th>count</th>\n",
       "      <th>mean</th>\n",
       "      <th>std</th>\n",
       "      <th>min</th>\n",
       "      <th>25%</th>\n",
       "      <th>50%</th>\n",
       "      <th>75%</th>\n",
       "      <th>max</th>\n",
       "    </tr>\n",
       "  </thead>\n",
       "  <tbody>\n",
       "    <tr>\n",
       "      <th>Petrol_tax</th>\n",
       "      <td>48.0</td>\n",
       "      <td>7.668333</td>\n",
       "      <td>0.950770</td>\n",
       "      <td>5.000</td>\n",
       "      <td>7.00000</td>\n",
       "      <td>7.5000</td>\n",
       "      <td>8.12500</td>\n",
       "      <td>10.000</td>\n",
       "    </tr>\n",
       "    <tr>\n",
       "      <th>Average_income</th>\n",
       "      <td>48.0</td>\n",
       "      <td>4241.833333</td>\n",
       "      <td>573.623768</td>\n",
       "      <td>3063.000</td>\n",
       "      <td>3739.00000</td>\n",
       "      <td>4298.0000</td>\n",
       "      <td>4578.75000</td>\n",
       "      <td>5342.000</td>\n",
       "    </tr>\n",
       "    <tr>\n",
       "      <th>Paved_Highways</th>\n",
       "      <td>48.0</td>\n",
       "      <td>5565.416667</td>\n",
       "      <td>3491.507166</td>\n",
       "      <td>431.000</td>\n",
       "      <td>3110.25000</td>\n",
       "      <td>4735.5000</td>\n",
       "      <td>7156.00000</td>\n",
       "      <td>17782.000</td>\n",
       "    </tr>\n",
       "    <tr>\n",
       "      <th>Population_Driver_licence(%)</th>\n",
       "      <td>48.0</td>\n",
       "      <td>0.570333</td>\n",
       "      <td>0.055470</td>\n",
       "      <td>0.451</td>\n",
       "      <td>0.52975</td>\n",
       "      <td>0.5645</td>\n",
       "      <td>0.59525</td>\n",
       "      <td>0.724</td>\n",
       "    </tr>\n",
       "    <tr>\n",
       "      <th>Petrol_Consumption</th>\n",
       "      <td>48.0</td>\n",
       "      <td>576.770833</td>\n",
       "      <td>111.885816</td>\n",
       "      <td>344.000</td>\n",
       "      <td>509.50000</td>\n",
       "      <td>568.5000</td>\n",
       "      <td>632.75000</td>\n",
       "      <td>968.000</td>\n",
       "    </tr>\n",
       "  </tbody>\n",
       "</table>\n",
       "</div>"
      ],
      "text/plain": [
       "                              count         mean          std       min  \\\n",
       "Petrol_tax                     48.0     7.668333     0.950770     5.000   \n",
       "Average_income                 48.0  4241.833333   573.623768  3063.000   \n",
       "Paved_Highways                 48.0  5565.416667  3491.507166   431.000   \n",
       "Population_Driver_licence(%)   48.0     0.570333     0.055470     0.451   \n",
       "Petrol_Consumption             48.0   576.770833   111.885816   344.000   \n",
       "\n",
       "                                     25%        50%         75%        max  \n",
       "Petrol_tax                       7.00000     7.5000     8.12500     10.000  \n",
       "Average_income                3739.00000  4298.0000  4578.75000   5342.000  \n",
       "Paved_Highways                3110.25000  4735.5000  7156.00000  17782.000  \n",
       "Population_Driver_licence(%)     0.52975     0.5645     0.59525      0.724  \n",
       "Petrol_Consumption             509.50000   568.5000   632.75000    968.000  "
      ]
     },
     "execution_count": 63,
     "metadata": {},
     "output_type": "execute_result"
    }
   ],
   "source": [
    "df_dtr.describe().T"
   ]
  },
  {
   "cell_type": "code",
   "execution_count": 64,
   "id": "bba37ace",
   "metadata": {},
   "outputs": [
    {
     "data": {
      "text/plain": [
       "Petrol_tax                      0\n",
       "Average_income                  0\n",
       "Paved_Highways                  0\n",
       "Population_Driver_licence(%)    0\n",
       "Petrol_Consumption              0\n",
       "dtype: int64"
      ]
     },
     "execution_count": 64,
     "metadata": {},
     "output_type": "execute_result"
    }
   ],
   "source": [
    "df_dtr.isna().sum()"
   ]
  },
  {
   "cell_type": "code",
   "execution_count": 66,
   "id": "f981c842",
   "metadata": {},
   "outputs": [],
   "source": [
    "x_dtr = df_dtr.drop(\"Petrol_Consumption\", axis=1)"
   ]
  },
  {
   "cell_type": "code",
   "execution_count": 67,
   "id": "d05efe39",
   "metadata": {},
   "outputs": [],
   "source": [
    "y_dtr = df_dtr[\"Petrol_Consumption\"]"
   ]
  },
  {
   "cell_type": "code",
   "execution_count": 68,
   "id": "5fb3f910",
   "metadata": {},
   "outputs": [],
   "source": [
    "from sklearn.model_selection import train_test_split\n",
    "xtrain_dtr, xtest_dtr, ytrain_dtr, ytest_dtr =  train_test_split(x_dtr,y_dtr,test_size=0.2, random_state=21)"
   ]
  },
  {
   "cell_type": "code",
   "execution_count": 70,
   "id": "5f0bc267",
   "metadata": {},
   "outputs": [],
   "source": [
    "from sklearn.tree import DecisionTreeRegressor  "
   ]
  },
  {
   "cell_type": "code",
   "execution_count": 71,
   "id": "f8a486c9",
   "metadata": {},
   "outputs": [
    {
     "data": {
      "text/plain": [
       "DecisionTreeRegressor()"
      ]
     },
     "execution_count": 71,
     "metadata": {},
     "output_type": "execute_result"
    }
   ],
   "source": [
    "DTR = DecisionTreeRegressor()\n",
    "DTR.fit(xtrain_dtr, ytrain_dtr)"
   ]
  },
  {
   "cell_type": "code",
   "execution_count": 72,
   "id": "d8f08d4d",
   "metadata": {},
   "outputs": [
    {
     "name": "stdout",
     "output_type": "stream",
     "text": [
      "Training score  1.0\n"
     ]
    }
   ],
   "source": [
    "print(\"Training score \", DTR.score(xtrain_dtr,ytrain_dtr))"
   ]
  },
  {
   "cell_type": "code",
   "execution_count": 74,
   "id": "4239c363",
   "metadata": {},
   "outputs": [
    {
     "name": "stdout",
     "output_type": "stream",
     "text": [
      "Testing score  -0.1821759314674214\n"
     ]
    }
   ],
   "source": [
    "print(\"Testing score \", DTR.score(xtest_dtr,ytest_dtr))"
   ]
  },
  {
   "cell_type": "markdown",
   "id": "c5bf15b3",
   "metadata": {},
   "source": [
    "**Conclusion:**<br>\n",
    "The banknote project using a Decision Tree classifier showcases the powerful synergy between machine learning and financial security. By analyzing image-derived features, we can build a model that identifies patterns distinguishing genuine from counterfeit banknotes. The transparency and interpretability of Decision Trees contribute to a deeper understanding of the decision-making process, fostering trust in the model's predictions. As we continue to embrace innovative solutions in the realm of finance and technology, the application of machine learning in banknote authentication stands as a testament to the transformative potential of data-driven approaches in safeguarding financial systems."
   ]
  },
  {
   "cell_type": "code",
   "execution_count": null,
   "id": "341498c9",
   "metadata": {},
   "outputs": [],
   "source": []
  }
 ],
 "metadata": {
  "kernelspec": {
   "display_name": "Python 3 (ipykernel)",
   "language": "python",
   "name": "python3"
  },
  "language_info": {
   "codemirror_mode": {
    "name": "ipython",
    "version": 3
   },
   "file_extension": ".py",
   "mimetype": "text/x-python",
   "name": "python",
   "nbconvert_exporter": "python",
   "pygments_lexer": "ipython3",
   "version": "3.9.13"
  }
 },
 "nbformat": 4,
 "nbformat_minor": 5
}
